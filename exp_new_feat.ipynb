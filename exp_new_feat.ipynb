{
 "cells": [
  {
   "cell_type": "code",
   "execution_count": 2,
   "metadata": {},
   "outputs": [
    {
     "name": "stdout",
     "output_type": "stream",
     "text": [
      "Training on participants from databases:\n",
      "           Participant  Database\n",
      "0          mit-bih_00   mit-bih\n",
      "650000     mit-bih_01   mit-bih\n",
      "1300000    mit-bih_02   mit-bih\n",
      "1950000    mit-bih_03   mit-bih\n",
      "2600000    mit-bih_04   mit-bih\n",
      "3250000    mit-bih_05   mit-bih\n",
      "3707859   mit-long_00  mit-long\n",
      "4629459   mit-long_01  mit-long\n",
      "5551059   mit-long_02  mit-long\n",
      "6010137      smart_00     smart\n",
      "6931737      smart_01     smart\n",
      "9212190      chfdb_01     chfdb\n",
      "11012190     chfdb_02     chfdb\n",
      "12812190     chfdb_03     chfdb\n",
      "14612190     chfdb_04     chfdb\n",
      "18212190     chfdb_06     chfdb\n",
      "21812190     chfdb_08     chfdb\n",
      "23944795      brno_00      brno\n",
      "31144795      brno_01      brno\n",
      "Testing on participants from databases:\n",
      "          Participant Database\n",
      "7412190     chfdb_00    chfdb\n",
      "16412190    chfdb_05    chfdb\n",
      "20012190    chfdb_07    chfdb\n",
      "23612190    chfdb_09    chfdb\n"
     ]
    },
    {
     "name": "stderr",
     "output_type": "stream",
     "text": [
      "/tmp/ipykernel_952288/3279442143.py:32: DeprecationWarning: DataFrameGroupBy.apply operated on the grouping columns. This behavior is deprecated, and in a future version of pandas the grouping columns will be excluded from the operation. Either pass `include_groups=False` to exclude the groupings or explicitly select the grouping columns after groupby to silence this warning.\n",
      "  train_data = data.groupby('Participant').apply(lambda x: x.iloc[:int(len(x)*(1-test_ratio))]).reset_index(drop=True)\n",
      "/tmp/ipykernel_952288/3279442143.py:33: DeprecationWarning: DataFrameGroupBy.apply operated on the grouping columns. This behavior is deprecated, and in a future version of pandas the grouping columns will be excluded from the operation. Either pass `include_groups=False` to exclude the groupings or explicitly select the grouping columns after groupby to silence this warning.\n",
      "  test_data = data.groupby('Participant').apply(lambda x: x.iloc[int(len(x)*(1-test_ratio)):]).reset_index(drop=True)\n"
     ]
    },
    {
     "name": "stdout",
     "output_type": "stream",
     "text": [
      "Participant brno_00 from brno: Train indices 0 to 5760000, Test indices 5760000 to 7200000\n",
      "Participant brno_01 from brno: Train indices 0 to 5102570, Test indices 5102570 to 6378213\n",
      "Participant chfdb_00 from chfdb: Train indices 0 to 1440000, Test indices 1440000 to 1800000\n",
      "Participant chfdb_01 from chfdb: Train indices 0 to 1440000, Test indices 1440000 to 1800000\n",
      "Participant chfdb_02 from chfdb: Train indices 0 to 1440000, Test indices 1440000 to 1800000\n",
      "Participant chfdb_03 from chfdb: Train indices 0 to 1440000, Test indices 1440000 to 1800000\n",
      "Participant chfdb_04 from chfdb: Train indices 0 to 1440000, Test indices 1440000 to 1800000\n",
      "Participant chfdb_05 from chfdb: Train indices 0 to 1440000, Test indices 1440000 to 1800000\n",
      "Participant chfdb_06 from chfdb: Train indices 0 to 1440000, Test indices 1440000 to 1800000\n",
      "Participant chfdb_07 from chfdb: Train indices 0 to 1440000, Test indices 1440000 to 1800000\n",
      "Participant chfdb_08 from chfdb: Train indices 0 to 1440000, Test indices 1440000 to 1800000\n",
      "Participant chfdb_09 from chfdb: Train indices 0 to 266083, Test indices 266083 to 332604\n",
      "Participant mit-bih_00 from mit-bih: Train indices 0 to 520000, Test indices 520000 to 650000\n",
      "Participant mit-bih_01 from mit-bih: Train indices 0 to 520000, Test indices 520000 to 650000\n",
      "Participant mit-bih_02 from mit-bih: Train indices 0 to 520000, Test indices 520000 to 650000\n",
      "Participant mit-bih_03 from mit-bih: Train indices 0 to 520000, Test indices 520000 to 650000\n",
      "Participant mit-bih_04 from mit-bih: Train indices 0 to 520000, Test indices 520000 to 650000\n",
      "Participant mit-bih_05 from mit-bih: Train indices 0 to 366286, Test indices 366286 to 457858\n",
      "Participant mit-long_00 from mit-long: Train indices 0 to 737280, Test indices 737280 to 921600\n",
      "Participant mit-long_01 from mit-long: Train indices 0 to 737280, Test indices 737280 to 921600\n",
      "Participant mit-long_02 from mit-long: Train indices 0 to 367261, Test indices 367261 to 459077\n",
      "Participant smart_00 from smart: Train indices 0 to 737280, Test indices 737280 to 921600\n",
      "Participant smart_01 from smart: Train indices 0 to 384361, Test indices 384361 to 480452\n"
     ]
    }
   ],
   "source": [
    "import pandas as pd\n",
    "import numpy as np\n",
    "from sklearn.preprocessing import LabelEncoder\n",
    "from sklearn.model_selection import train_test_split\n",
    "\n",
    "# Function to load data from multiple CSV files\n",
    "def load_data(dataset_files):\n",
    "    combined_data = []\n",
    "    for file in dataset_files:\n",
    "        participant_data = pd.read_csv(file)\n",
    "        combined_data.append(participant_data)\n",
    "    return pd.concat(combined_data, ignore_index=True)\n",
    "\n",
    "# Function to split data by participant for age and gender models\n",
    "def train_test_split_by_participant(data, test_size=0.2):\n",
    "    participants = data['Participant'].unique()\n",
    "    np.random.shuffle(participants)\n",
    "    test_size = int(len(participants) * test_size)\n",
    "    test_participants = participants[-test_size:]\n",
    "    train_participants = participants[:-test_size]\n",
    "\n",
    "    train_data = data[data['Participant'].isin(train_participants)]\n",
    "    test_data = data[data['Participant'].isin(test_participants)]\n",
    "\n",
    "    # Detailed split information\n",
    "    print(\"Training on participants from databases:\\n\", train_data[['Participant', 'Database']].drop_duplicates())\n",
    "    print(\"Testing on participants from databases:\\n\", test_data[['Participant', 'Database']].drop_duplicates())\n",
    "    return train_data, test_data\n",
    "\n",
    "# Function to perform time-series split for participant ID identification\n",
    "def time_series_split(data, test_ratio=0.2):\n",
    "    train_data = data.groupby('Participant').apply(lambda x: x.iloc[:int(len(x)*(1-test_ratio))]).reset_index(drop=True)\n",
    "    test_data = data.groupby('Participant').apply(lambda x: x.iloc[int(len(x)*(1-test_ratio)):]).reset_index(drop=True)\n",
    "\n",
    "    # Detailed split information\n",
    "    for participant, group in data.groupby('Participant'):\n",
    "        train_end = int(len(group)*(1-test_ratio))\n",
    "        print(f\"Participant {participant} from {group['Database'].iloc[0]}: Train indices 0 to {train_end}, Test indices {train_end} to {len(group)}\")\n",
    "    return train_data, test_data\n",
    "\n",
    "# Function to prepare features and labels for training\n",
    "def prepare_features_labels(data, label_column, encode=True):\n",
    "    features = data.drop(columns=['Participant', 'Sample', 'Sampling_Rate', 'Database', 'Gender', 'Age', 'age_binned'])\n",
    "    labels = data[label_column]\n",
    "    if encode:\n",
    "        encoder = LabelEncoder()\n",
    "        labels = encoder.fit_transform(labels)\n",
    "    return features, labels\n",
    "\n",
    "# Main experiment setup\n",
    "dataset_paths = [\n",
    "    'mit-bih_ECGs.csv',\n",
    "    'mit-long_ECGs.csv',\n",
    "    'smart_ECGs.csv',\n",
    "    'chfdb_ECGs.csv',\n",
    "    'brno_ECGs.csv'\n",
    "]\n",
    "\n",
    "combined_data = load_data(dataset_paths)\n",
    "\n",
    "# Drop the 'Half Minute' column if it exists\n",
    "if 'Half Minute' in combined_data.columns:\n",
    "    combined_data = combined_data.drop(columns=['Half Minute'])\n",
    "\n",
    "# Replace 'm' with 'M' in Gender column\n",
    "combined_data['Gender'] = combined_data['Gender'].replace({'m': 'M'})\n",
    "\n",
    "# Drop any rows with NaN values\n",
    "combined_data = combined_data.dropna()\n",
    "\n",
    "# Define age bins and labels\n",
    "age_bins = [0, 18, 35, 50, 65, 80, 100]\n",
    "age_labels = [f\"{age_bins[i]}-{age_bins[i+1]}\" for i in range(len(age_bins)-1)]\n",
    "\n",
    "# Bin the ages and encode the bins\n",
    "combined_data['age_binned'] = pd.cut(combined_data['Age'], bins=age_bins, labels=age_labels, right=False)\n",
    "le = LabelEncoder()\n",
    "combined_data['age_binned'] = le.fit_transform(combined_data['age_binned'])\n",
    "\n",
    "# Splitting data for age and gender identification\n",
    "train_data_ag, test_data_ag = train_test_split_by_participant(combined_data, test_size=0.2)\n",
    "\n",
    "# Preparing features and labels for Gender identification\n",
    "X_train_gender, y_train_gender = prepare_features_labels(train_data_ag, 'Gender')\n",
    "X_test_gender, y_test_gender = prepare_features_labels(test_data_ag, 'Gender')\n",
    "\n",
    "# Preparing features and labels for Age identification\n",
    "X_train_age, y_train_age = prepare_features_labels(train_data_ag, 'age_binned')\n",
    "X_test_age, y_test_age = prepare_features_labels(test_data_ag, 'age_binned')\n",
    "\n",
    "# Time-series split for Participant ID identification\n",
    "train_data_id, test_data_id = time_series_split(combined_data, test_ratio=0.2)\n",
    "X_train_id, y_train_id = prepare_features_labels(train_data_id, 'Participant', encode=False)\n",
    "X_test_id, y_test_id = prepare_features_labels(test_data_id, 'Participant', encode=False)\n",
    "\n",
    "from sklearn.metrics import accuracy_score, precision_score, recall_score, f1_score, roc_auc_score, confusion_matrix\n",
    "import matplotlib.pyplot as plt\n",
    "import seaborn as sns\n",
    "import shap\n",
    "\n",
    "def evaluate_model(model, X_test, y_test, task):\n",
    "    predictions = model.predict(X_test)\n",
    "    predicted_classes = np.argmax(predictions, axis=1) if predictions.shape[1] > 1 else (predictions > 0.5).astype(\"int32\")\n",
    "    true_classes = y_test if y_test.ndim == 1 else np.argmax(y_test, axis=1)\n",
    "\n",
    "    accuracy = accuracy_score(true_classes, predicted_classes)\n",
    "    precision = precision_score(true_classes, predicted_classes, average='weighted')\n",
    "    recall = recall_score(true_classes, predicted_classes, average='weighted')\n",
    "    f1 = f1_score(true_classes, predicted_classes, average='weighted')\n",
    "    roc_auc = roc_auc_score(y_test, predictions, multi_class='ovr') if y_test.ndim > 1 else roc_auc_score(y_test, predictions)\n",
    "\n",
    "    print(f\"\\n--- {task} ---\")\n",
    "    print(\"Accuracy:\", accuracy)\n",
    "    print(\"Precision:\", precision)\n",
    "    print(\"Recall:\", recall)\n",
    "    print(\"F1 Score:\", f1)\n",
    "    print(\"ROC AUC Score:\", roc_auc)\n",
    "\n",
    "    cm = confusion_matrix(true_classes, predicted_classes)\n",
    "    plt.figure(figsize=(10, 8))\n",
    "    sns.heatmap(cm, annot=True, fmt=\"d\", cmap='Blues')\n",
    "    plt.title(f'Confusion Matrix for {task}')\n",
    "    plt.ylabel('True Label')\n",
    "    plt.xlabel('Predicted Label')\n",
    "    plt.show()\n",
    "\n",
    "    # # SHAP analysis (for interpretability)\n",
    "    # explainer = shap.Explainer(model, X_test)\n",
    "    # shap_values = explainer(X_test)\n",
    "    # shap.summary_plot(shap_values, X_test, plot_type=\"bar\")\n"
   ]
  },
  {
   "cell_type": "code",
   "execution_count": 32,
   "metadata": {},
   "outputs": [
    {
     "name": "stdout",
     "output_type": "stream",
     "text": [
      "Using device: cuda\n"
     ]
    },
    {
     "name": "stderr",
     "output_type": "stream",
     "text": [
      "Training Epoch 1/20: 100%|██████████| 83/83 [04:38<00:00,  3.36s/it]\n"
     ]
    },
    {
     "name": "stdout",
     "output_type": "stream",
     "text": [
      "Epoch [1/20], Training Loss: 0.5513\n"
     ]
    },
    {
     "name": "stderr",
     "output_type": "stream",
     "text": [
      "                                                           \r"
     ]
    },
    {
     "name": "stdout",
     "output_type": "stream",
     "text": [
      "Validation - Epoch [1/20] Metrics:\n",
      "Accuracy: 0.7148, Precision: 0.6273, Recall: 0.9984, F1 Score: 0.7705, ROC AUC: 0.7258, Loss: 0.5080\n",
      "Model saved with validation accuracy: 0.7148\n"
     ]
    },
    {
     "name": "stderr",
     "output_type": "stream",
     "text": [
      "Training Epoch 2/20: 100%|██████████| 83/83 [04:41<00:00,  3.40s/it]\n"
     ]
    },
    {
     "name": "stdout",
     "output_type": "stream",
     "text": [
      "Epoch [2/20], Training Loss: 0.5043\n"
     ]
    },
    {
     "name": "stderr",
     "output_type": "stream",
     "text": [
      "                                                           \r"
     ]
    },
    {
     "name": "stdout",
     "output_type": "stream",
     "text": [
      "Validation - Epoch [2/20] Metrics:\n",
      "Accuracy: 0.7186, Precision: 0.6331, Recall: 0.9831, F1 Score: 0.7702, ROC AUC: 0.7289, Loss: 0.5009\n",
      "Model saved with validation accuracy: 0.7186\n"
     ]
    },
    {
     "name": "stderr",
     "output_type": "stream",
     "text": [
      "Training Epoch 3/20: 100%|██████████| 83/83 [04:40<00:00,  3.38s/it]\n"
     ]
    },
    {
     "name": "stdout",
     "output_type": "stream",
     "text": [
      "Epoch [3/20], Training Loss: 0.4996\n"
     ]
    },
    {
     "name": "stderr",
     "output_type": "stream",
     "text": [
      "                                                           \r"
     ]
    },
    {
     "name": "stdout",
     "output_type": "stream",
     "text": [
      "Validation - Epoch [3/20] Metrics:\n",
      "Accuracy: 0.7212, Precision: 0.6410, Recall: 0.9518, F1 Score: 0.7661, ROC AUC: 0.7302, Loss: 0.4990\n",
      "Model saved with validation accuracy: 0.7212\n"
     ]
    },
    {
     "name": "stderr",
     "output_type": "stream",
     "text": [
      "Training Epoch 4/20: 100%|██████████| 83/83 [04:41<00:00,  3.39s/it]\n"
     ]
    },
    {
     "name": "stdout",
     "output_type": "stream",
     "text": [
      "Epoch [4/20], Training Loss: 0.4985\n"
     ]
    },
    {
     "name": "stderr",
     "output_type": "stream",
     "text": [
      "                                                           \r"
     ]
    },
    {
     "name": "stdout",
     "output_type": "stream",
     "text": [
      "Validation - Epoch [4/20] Metrics:\n",
      "Accuracy: 0.7196, Precision: 0.6420, Recall: 0.9388, F1 Score: 0.7625, ROC AUC: 0.7281, Loss: 0.4976\n"
     ]
    },
    {
     "name": "stderr",
     "output_type": "stream",
     "text": [
      "Training Epoch 5/20: 100%|██████████| 83/83 [04:40<00:00,  3.38s/it]\n"
     ]
    },
    {
     "name": "stdout",
     "output_type": "stream",
     "text": [
      "Epoch [5/20], Training Loss: 0.4969\n"
     ]
    },
    {
     "name": "stderr",
     "output_type": "stream",
     "text": [
      "                                                           \r"
     ]
    },
    {
     "name": "stdout",
     "output_type": "stream",
     "text": [
      "Validation - Epoch [5/20] Metrics:\n",
      "Accuracy: 0.7185, Precision: 0.6431, Recall: 0.9282, F1 Score: 0.7598, ROC AUC: 0.7267, Loss: 0.4961\n"
     ]
    },
    {
     "name": "stderr",
     "output_type": "stream",
     "text": [
      "Training Epoch 6/20: 100%|██████████| 83/83 [04:40<00:00,  3.38s/it]\n"
     ]
    },
    {
     "name": "stdout",
     "output_type": "stream",
     "text": [
      "Epoch [6/20], Training Loss: 0.4959\n"
     ]
    },
    {
     "name": "stderr",
     "output_type": "stream",
     "text": [
      "                                                           \r"
     ]
    },
    {
     "name": "stdout",
     "output_type": "stream",
     "text": [
      "Validation - Epoch [6/20] Metrics:\n",
      "Accuracy: 0.7186, Precision: 0.6433, Recall: 0.9277, F1 Score: 0.7598, ROC AUC: 0.7268, Loss: 0.4957\n"
     ]
    },
    {
     "name": "stderr",
     "output_type": "stream",
     "text": [
      "Training Epoch 7/20: 100%|██████████| 83/83 [04:40<00:00,  3.38s/it]\n"
     ]
    },
    {
     "name": "stdout",
     "output_type": "stream",
     "text": [
      "Epoch [7/20], Training Loss: 0.4957\n"
     ]
    },
    {
     "name": "stderr",
     "output_type": "stream",
     "text": [
      "                                                           \r"
     ]
    },
    {
     "name": "stdout",
     "output_type": "stream",
     "text": [
      "Validation - Epoch [7/20] Metrics:\n",
      "Accuracy: 0.7190, Precision: 0.6431, Recall: 0.9306, F1 Score: 0.7606, ROC AUC: 0.7273, Loss: 0.4956\n"
     ]
    },
    {
     "name": "stderr",
     "output_type": "stream",
     "text": [
      "Training Epoch 8/20: 100%|██████████| 83/83 [04:42<00:00,  3.41s/it]\n"
     ]
    },
    {
     "name": "stdout",
     "output_type": "stream",
     "text": [
      "Epoch [8/20], Training Loss: 0.4956\n"
     ]
    },
    {
     "name": "stderr",
     "output_type": "stream",
     "text": [
      "                                                           \r"
     ]
    },
    {
     "name": "stdout",
     "output_type": "stream",
     "text": [
      "Validation - Epoch [8/20] Metrics:\n",
      "Accuracy: 0.7190, Precision: 0.6430, Recall: 0.9309, F1 Score: 0.7607, ROC AUC: 0.7273, Loss: 0.4955\n"
     ]
    },
    {
     "name": "stderr",
     "output_type": "stream",
     "text": [
      "Training Epoch 9/20: 100%|██████████| 83/83 [04:40<00:00,  3.38s/it]\n"
     ]
    },
    {
     "name": "stdout",
     "output_type": "stream",
     "text": [
      "Epoch [9/20], Training Loss: 0.4955\n"
     ]
    },
    {
     "name": "stderr",
     "output_type": "stream",
     "text": [
      "                                                           \r"
     ]
    },
    {
     "name": "stdout",
     "output_type": "stream",
     "text": [
      "Validation - Epoch [9/20] Metrics:\n",
      "Accuracy: 0.7190, Precision: 0.6431, Recall: 0.9308, F1 Score: 0.7606, ROC AUC: 0.7273, Loss: 0.4954\n"
     ]
    },
    {
     "name": "stderr",
     "output_type": "stream",
     "text": [
      "Training Epoch 10/20: 100%|██████████| 83/83 [04:41<00:00,  3.39s/it]\n"
     ]
    },
    {
     "name": "stdout",
     "output_type": "stream",
     "text": [
      "Epoch [10/20], Training Loss: 0.4954\n"
     ]
    },
    {
     "name": "stderr",
     "output_type": "stream",
     "text": [
      "                                                           \r"
     ]
    },
    {
     "name": "stdout",
     "output_type": "stream",
     "text": [
      "Validation - Epoch [10/20] Metrics:\n",
      "Accuracy: 0.7192, Precision: 0.6429, Recall: 0.9325, F1 Score: 0.7611, ROC AUC: 0.7275, Loss: 0.4953\n"
     ]
    },
    {
     "name": "stderr",
     "output_type": "stream",
     "text": [
      "Training Epoch 11/20: 100%|██████████| 83/83 [04:40<00:00,  3.37s/it]\n"
     ]
    },
    {
     "name": "stdout",
     "output_type": "stream",
     "text": [
      "Epoch [11/20], Training Loss: 0.4953\n"
     ]
    },
    {
     "name": "stderr",
     "output_type": "stream",
     "text": [
      "                                                           \r"
     ]
    },
    {
     "name": "stdout",
     "output_type": "stream",
     "text": [
      "Validation - Epoch [11/20] Metrics:\n",
      "Accuracy: 0.7193, Precision: 0.6423, Recall: 0.9361, F1 Score: 0.7619, ROC AUC: 0.7278, Loss: 0.4952\n"
     ]
    },
    {
     "name": "stderr",
     "output_type": "stream",
     "text": [
      "Training Epoch 12/20: 100%|██████████| 83/83 [04:41<00:00,  3.39s/it]\n"
     ]
    },
    {
     "name": "stdout",
     "output_type": "stream",
     "text": [
      "Epoch [12/20], Training Loss: 0.4952\n"
     ]
    },
    {
     "name": "stderr",
     "output_type": "stream",
     "text": [
      "                                                           \r"
     ]
    },
    {
     "name": "stdout",
     "output_type": "stream",
     "text": [
      "Validation - Epoch [12/20] Metrics:\n",
      "Accuracy: 0.7192, Precision: 0.6423, Recall: 0.9357, F1 Score: 0.7617, ROC AUC: 0.7277, Loss: 0.4951\n"
     ]
    },
    {
     "name": "stderr",
     "output_type": "stream",
     "text": [
      "Training Epoch 13/20: 100%|██████████| 83/83 [04:40<00:00,  3.38s/it]\n"
     ]
    },
    {
     "name": "stdout",
     "output_type": "stream",
     "text": [
      "Epoch [13/20], Training Loss: 0.4951\n"
     ]
    },
    {
     "name": "stderr",
     "output_type": "stream",
     "text": [
      "                                                           \r"
     ]
    },
    {
     "name": "stdout",
     "output_type": "stream",
     "text": [
      "Validation - Epoch [13/20] Metrics:\n",
      "Accuracy: 0.7191, Precision: 0.6427, Recall: 0.9332, F1 Score: 0.7612, ROC AUC: 0.7275, Loss: 0.4949\n"
     ]
    },
    {
     "name": "stderr",
     "output_type": "stream",
     "text": [
      "Training Epoch 14/20: 100%|██████████| 83/83 [04:43<00:00,  3.42s/it]\n"
     ]
    },
    {
     "name": "stdout",
     "output_type": "stream",
     "text": [
      "Epoch [14/20], Training Loss: 0.4948\n"
     ]
    },
    {
     "name": "stderr",
     "output_type": "stream",
     "text": [
      "                                                           \r"
     ]
    },
    {
     "name": "stdout",
     "output_type": "stream",
     "text": [
      "Validation - Epoch [14/20] Metrics:\n",
      "Accuracy: 0.7193, Precision: 0.6434, Recall: 0.9301, F1 Score: 0.7607, ROC AUC: 0.7275, Loss: 0.4947\n"
     ]
    },
    {
     "name": "stderr",
     "output_type": "stream",
     "text": [
      "Training Epoch 15/20: 100%|██████████| 83/83 [04:41<00:00,  3.39s/it]\n"
     ]
    },
    {
     "name": "stdout",
     "output_type": "stream",
     "text": [
      "Epoch [15/20], Training Loss: 0.4946\n"
     ]
    },
    {
     "name": "stderr",
     "output_type": "stream",
     "text": [
      "                                                           \r"
     ]
    },
    {
     "name": "stdout",
     "output_type": "stream",
     "text": [
      "Validation - Epoch [15/20] Metrics:\n",
      "Accuracy: 0.7195, Precision: 0.6442, Recall: 0.9270, F1 Score: 0.7602, ROC AUC: 0.7276, Loss: 0.4944\n"
     ]
    },
    {
     "name": "stderr",
     "output_type": "stream",
     "text": [
      "Training Epoch 16/20: 100%|██████████| 83/83 [04:41<00:00,  3.39s/it]\n"
     ]
    },
    {
     "name": "stdout",
     "output_type": "stream",
     "text": [
      "Epoch [16/20], Training Loss: 0.4943\n"
     ]
    },
    {
     "name": "stderr",
     "output_type": "stream",
     "text": [
      "                                                           \r"
     ]
    },
    {
     "name": "stdout",
     "output_type": "stream",
     "text": [
      "Validation - Epoch [16/20] Metrics:\n",
      "Accuracy: 0.7203, Precision: 0.6463, Recall: 0.9206, F1 Score: 0.7594, ROC AUC: 0.7281, Loss: 0.4941\n"
     ]
    },
    {
     "name": "stderr",
     "output_type": "stream",
     "text": [
      "Training Epoch 17/20: 100%|██████████| 83/83 [04:41<00:00,  3.39s/it]\n"
     ]
    },
    {
     "name": "stdout",
     "output_type": "stream",
     "text": [
      "Epoch [17/20], Training Loss: 0.4940\n"
     ]
    },
    {
     "name": "stderr",
     "output_type": "stream",
     "text": [
      "                                                           \r"
     ]
    },
    {
     "name": "stdout",
     "output_type": "stream",
     "text": [
      "Validation - Epoch [17/20] Metrics:\n",
      "Accuracy: 0.7225, Precision: 0.6500, Recall: 0.9129, F1 Score: 0.7594, ROC AUC: 0.7299, Loss: 0.4938\n",
      "Model saved with validation accuracy: 0.7225\n"
     ]
    },
    {
     "name": "stderr",
     "output_type": "stream",
     "text": [
      "Training Epoch 18/20: 100%|██████████| 83/83 [04:41<00:00,  3.39s/it]\n"
     ]
    },
    {
     "name": "stdout",
     "output_type": "stream",
     "text": [
      "Epoch [18/20], Training Loss: 0.4937\n"
     ]
    },
    {
     "name": "stderr",
     "output_type": "stream",
     "text": [
      "                                                           \r"
     ]
    },
    {
     "name": "stdout",
     "output_type": "stream",
     "text": [
      "Validation - Epoch [18/20] Metrics:\n",
      "Accuracy: 0.7231, Precision: 0.6522, Recall: 0.9060, F1 Score: 0.7584, ROC AUC: 0.7303, Loss: 0.4935\n",
      "Model saved with validation accuracy: 0.7231\n"
     ]
    },
    {
     "name": "stderr",
     "output_type": "stream",
     "text": [
      "Training Epoch 19/20: 100%|██████████| 83/83 [04:42<00:00,  3.40s/it]\n"
     ]
    },
    {
     "name": "stdout",
     "output_type": "stream",
     "text": [
      "Epoch [19/20], Training Loss: 0.4933\n"
     ]
    },
    {
     "name": "stderr",
     "output_type": "stream",
     "text": [
      "                                                           \r"
     ]
    },
    {
     "name": "stdout",
     "output_type": "stream",
     "text": [
      "Validation - Epoch [19/20] Metrics:\n",
      "Accuracy: 0.7261, Precision: 0.6513, Recall: 0.9231, F1 Score: 0.7638, ROC AUC: 0.7338, Loss: 0.4931\n",
      "Model saved with validation accuracy: 0.7261\n"
     ]
    },
    {
     "name": "stderr",
     "output_type": "stream",
     "text": [
      "Training Epoch 20/20: 100%|██████████| 83/83 [04:41<00:00,  3.39s/it]\n"
     ]
    },
    {
     "name": "stdout",
     "output_type": "stream",
     "text": [
      "Epoch [20/20], Training Loss: 0.4930\n"
     ]
    },
    {
     "name": "stderr",
     "output_type": "stream",
     "text": [
      "                                                           \r"
     ]
    },
    {
     "name": "stdout",
     "output_type": "stream",
     "text": [
      "Validation - Epoch [20/20] Metrics:\n",
      "Accuracy: 0.7271, Precision: 0.6501, Recall: 0.9333, F1 Score: 0.7664, ROC AUC: 0.7351, Loss: 0.4928\n",
      "Model saved with validation accuracy: 0.7271\n"
     ]
    },
    {
     "name": "stderr",
     "output_type": "stream",
     "text": [
      "                                                           \r"
     ]
    },
    {
     "name": "stdout",
     "output_type": "stream",
     "text": [
      "\n",
      "Final Test Data Evaluation Metrics:\n",
      "Accuracy: 0.9301\n",
      "Precision: 0.9877\n",
      "Recall: 0.7907\n",
      "F1 Score: 0.8783\n",
      "ROC AUC: 0.8930\n",
      "Loss: 0.1842\n"
     ]
    },
    {
     "data": {
      "image/png": "[encoded data removed]",
      "text/plain": [
       "<Figure size 1000x800 with 2 Axes>"
      ]
     },
     "metadata": {},
     "output_type": "display_data"
    }
   ],
   "source": [
    "# LSTM for gender\n",
    "import torch\n",
    "import torch.nn as nn\n",
    "import torch.optim as optim\n",
    "from torch.utils.data import DataLoader, TensorDataset, random_split\n",
    "from sklearn.metrics import accuracy_score, precision_score, recall_score, f1_score, roc_auc_score, confusion_matrix\n",
    "import matplotlib.pyplot as plt\n",
    "import seaborn as sns\n",
    "from tqdm import tqdm\n",
    "import shap\n",
    "import os\n",
    "\n",
    "# Check for GPU\n",
    "device = torch.device(\"cuda\" if torch.cuda.is_available() else \"cpu\")\n",
    "print(f\"Using device: {device}\")\n",
    "\n",
    "# Convert data to PyTorch tensors and create DataLoader\n",
    "X_train_gender_tensor = torch.tensor(X_train_gender.values, dtype=torch.float32).unsqueeze(2).to(device)\n",
    "X_test_gender_tensor = torch.tensor(X_test_gender.values, dtype=torch.float32).unsqueeze(2).to(device)\n",
    "y_train_gender_tensor = torch.tensor(y_train_gender, dtype=torch.float32).to(device)\n",
    "y_test_gender_tensor = torch.tensor(y_test_gender, dtype=torch.float32).to(device)\n",
    "\n",
    "# Split the training data into training and validation sets\n",
    "train_size = int(0.8 * len(X_train_gender_tensor))\n",
    "val_size = len(X_train_gender_tensor) - train_size\n",
    "train_dataset, val_dataset = random_split(TensorDataset(X_train_gender_tensor, y_train_gender_tensor), [train_size, val_size])\n",
    "\n",
    "train_loader = DataLoader(train_dataset, batch_size=256*1024, shuffle=True)\n",
    "val_loader = DataLoader(val_dataset, batch_size=256*1024, shuffle=False)\n",
    "test_loader = DataLoader(TensorDataset(X_test_gender_tensor, y_test_gender_tensor), batch_size=256*1024, shuffle=False)\n",
    "\n",
    "# Define the LSTM model\n",
    "class LSTMGenderModel(nn.Module):\n",
    "    def __init__(self, input_size, hidden_size, num_layers, num_classes):\n",
    "        super(LSTMGenderModel, self).__init__()\n",
    "        self.lstm = nn.LSTM(input_size, hidden_size, num_layers, batch_first=True)\n",
    "        self.fc = nn.Linear(hidden_size, num_classes)\n",
    "        self.sigmoid = nn.Sigmoid()\n",
    "\n",
    "    def forward(self, x):\n",
    "        h0 = torch.zeros(num_layers, x.size(0), hidden_size).to(device)\n",
    "        c0 = torch.zeros(num_layers, x.size(0), hidden_size).to(device)\n",
    "        out, _ = self.lstm(x, (h0, c0))\n",
    "        out = self.fc(out[:, -1, :])\n",
    "        out = self.sigmoid(out)\n",
    "        return out\n",
    "\n",
    "# Model parameters\n",
    "input_size = 1\n",
    "hidden_size = 128\n",
    "num_layers = 2\n",
    "num_classes = 1\n",
    "\n",
    "# Instantiate the model, define the loss function and the optimizer\n",
    "model = LSTMGenderModel(input_size, hidden_size, num_layers, num_classes).to(device)\n",
    "criterion = nn.BCELoss()\n",
    "optimizer = optim.Adam(model.parameters(), lr=0.001)\n",
    "\n",
    "# Evaluation function\n",
    "def evaluate_model(model, loader):\n",
    "    model.eval()\n",
    "    y_pred = []\n",
    "    y_true = []\n",
    "    running_loss = 0.0\n",
    "    with torch.no_grad():\n",
    "        for X_batch, y_batch in tqdm(loader, desc=\"Evaluating\", leave=False):\n",
    "            outputs = model(X_batch).squeeze()\n",
    "            preds = (outputs > 0.5).float()\n",
    "            y_pred.extend(preds.cpu().tolist())\n",
    "            y_true.extend(y_batch.cpu().tolist())\n",
    "            loss = criterion(outputs, y_batch)\n",
    "            running_loss += loss.item()\n",
    "\n",
    "    # Metrics\n",
    "    accuracy = accuracy_score(y_true, y_pred)\n",
    "    precision = precision_score(y_true, y_pred)\n",
    "    recall = recall_score(y_true, y_pred)\n",
    "    f1 = f1_score(y_true, y_pred)\n",
    "    roc_auc = roc_auc_score(y_true, y_pred)\n",
    "\n",
    "    return accuracy, precision, recall, f1, roc_auc, running_loss/len(loader)\n",
    "\n",
    "# Train the model\n",
    "num_epochs = 20\n",
    "best_val_accuracy = 0.0\n",
    "best_model_path = \"best_model_gender_LSTM.pth\"\n",
    "\n",
    "for epoch in range(num_epochs):\n",
    "    model.train()\n",
    "    running_loss = 0.0\n",
    "    for X_batch, y_batch in tqdm(train_loader, desc=f\"Training Epoch {epoch+1}/{num_epochs}\"):\n",
    "        optimizer.zero_grad()\n",
    "        outputs = model(X_batch).squeeze()\n",
    "        loss = criterion(outputs, y_batch)\n",
    "        loss.backward()\n",
    "        optimizer.step()\n",
    "        running_loss += loss.item()\n",
    "    \n",
    "    print(f'Epoch [{epoch+1}/{num_epochs}], Training Loss: {running_loss/len(train_loader):.4f}')\n",
    "    \n",
    "    # Evaluate on validation data\n",
    "    val_accuracy, val_precision, val_recall, val_f1, val_roc_auc, val_loss = evaluate_model(model, val_loader)\n",
    "    print(f\"Validation - Epoch [{epoch+1}/{num_epochs}] Metrics:\")\n",
    "    print(f\"Accuracy: {val_accuracy:.4f}, Precision: {val_precision:.4f}, Recall: {val_recall:.4f}, F1 Score: {val_f1:.4f}, ROC AUC: {val_roc_auc:.4f}, Loss: {val_loss:.4f}\")\n",
    "\n",
    "    # Save the model if it has the best validation accuracy so far\n",
    "    if val_accuracy > best_val_accuracy:\n",
    "        best_val_accuracy = val_accuracy\n",
    "        torch.save(model.state_dict(), best_model_path)\n",
    "        print(f\"Model saved with validation accuracy: {best_val_accuracy:.4f}\")\n",
    "\n",
    "# Load the best model\n",
    "model.load_state_dict(torch.load(best_model_path))\n",
    "\n",
    "# Final evaluation on test data\n",
    "test_accuracy, test_precision, test_recall, test_f1, test_roc_auc, test_loss = evaluate_model(model, test_loader)\n",
    "print(\"\\nFinal Test Data Evaluation Metrics:\")\n",
    "print(f\"Accuracy: {test_accuracy:.4f}\")\n",
    "print(f\"Precision: {test_precision:.4f}\")\n",
    "print(f\"Recall: {test_recall:.4f}\")\n",
    "print(f\"F1 Score: {test_f1:.4f}\")\n",
    "print(f\"ROC AUC: {test_roc_auc:.4f}\")\n",
    "print(f\"Loss: {test_loss:.4f}\")\n",
    "\n",
    "# Plot confusion matrix\n",
    "y_true, y_pred = [], []\n",
    "model.eval()\n",
    "with torch.no_grad():\n",
    "    for X_batch, y_batch in test_loader:\n",
    "        outputs = model(X_batch).squeeze()\n",
    "        preds = (outputs > 0.5).float()\n",
    "        y_pred.extend(preds.cpu().tolist())\n",
    "        y_true.extend(y_batch.cpu().tolist())\n",
    "\n",
    "cm = confusion_matrix(y_true, y_pred)\n",
    "plt.figure(figsize=(10, 8))\n",
    "sns.heatmap(cm, annot=True, fmt=\"d\", cmap='Blues')\n",
    "plt.title('Confusion Matrix for Gender Identification (LSTM)')\n",
    "plt.ylabel('True Label')\n",
    "plt.xlabel('Predicted Label')\n",
    "plt.show()\n",
    "\n",
    "# SHAP analysis (for interpretability)\n",
    "# Note: SHAP for PyTorch models may require using the DeepExplainer\n",
    "# explainer = shap.DeepExplainer(model, X_train_gender_tensor)\n",
    "# shap_values = explainer.shap_values(X_test_gender_tensor)\n",
    "# shap.summary_plot(shap_values, X_test_gender_tensor, plot_type=\"bar\")\n"
   ]
  },
  {
   "cell_type": "code",
   "execution_count": 33,
   "metadata": {},
   "outputs": [
    {
     "name": "stdout",
     "output_type": "stream",
     "text": [
      "Using device: cuda\n"
     ]
    },
    {
     "name": "stderr",
     "output_type": "stream",
     "text": [
      "Training Epoch 1/20: 100%|██████████| 83/83 [05:02<00:00,  3.65s/it]\n"
     ]
    },
    {
     "name": "stdout",
     "output_type": "stream",
     "text": [
      "Epoch [1/20], Training Loss: 1.0948\n"
     ]
    },
    {
     "name": "stderr",
     "output_type": "stream",
     "text": [
      "/home/ubuntu/.local/lib/python3.10/site-packages/sklearn/metrics/_classification.py:1509: UndefinedMetricWarning: Precision is ill-defined and being set to 0.0 in labels with no predicted samples. Use `zero_division` parameter to control this behavior.\n",
      "  _warn_prf(average, modifier, f\"{metric.capitalize()} is\", len(result))\n"
     ]
    },
    {
     "name": "stdout",
     "output_type": "stream",
     "text": [
      "Validation - Epoch [1/20] Metrics:\n",
      "Accuracy: 0.6692, Precision: 0.5760, Recall: 0.6692, F1 Score: 0.5889, Loss: 1.0745\n",
      "Model saved with validation accuracy: 0.6692\n"
     ]
    },
    {
     "name": "stderr",
     "output_type": "stream",
     "text": [
      "Training Epoch 2/20: 100%|██████████| 83/83 [05:03<00:00,  3.66s/it]\n"
     ]
    },
    {
     "name": "stdout",
     "output_type": "stream",
     "text": [
      "Epoch [2/20], Training Loss: 1.0748\n"
     ]
    },
    {
     "name": "stderr",
     "output_type": "stream",
     "text": [
      "/home/ubuntu/.local/lib/python3.10/site-packages/sklearn/metrics/_classification.py:1509: UndefinedMetricWarning: Precision is ill-defined and being set to 0.0 in labels with no predicted samples. Use `zero_division` parameter to control this behavior.\n",
      "  _warn_prf(average, modifier, f\"{metric.capitalize()} is\", len(result))\n"
     ]
    },
    {
     "name": "stdout",
     "output_type": "stream",
     "text": [
      "Validation - Epoch [2/20] Metrics:\n",
      "Accuracy: 0.6692, Precision: 0.5761, Recall: 0.6692, F1 Score: 0.5889, Loss: 1.0745\n",
      "Model saved with validation accuracy: 0.6692\n"
     ]
    },
    {
     "name": "stderr",
     "output_type": "stream",
     "text": [
      "Training Epoch 3/20: 100%|██████████| 83/83 [05:04<00:00,  3.66s/it]\n"
     ]
    },
    {
     "name": "stdout",
     "output_type": "stream",
     "text": [
      "Epoch [3/20], Training Loss: 1.0747\n"
     ]
    },
    {
     "name": "stderr",
     "output_type": "stream",
     "text": [
      "/home/ubuntu/.local/lib/python3.10/site-packages/sklearn/metrics/_classification.py:1509: UndefinedMetricWarning: Precision is ill-defined and being set to 0.0 in labels with no predicted samples. Use `zero_division` parameter to control this behavior.\n",
      "  _warn_prf(average, modifier, f\"{metric.capitalize()} is\", len(result))\n"
     ]
    },
    {
     "name": "stdout",
     "output_type": "stream",
     "text": [
      "Validation - Epoch [3/20] Metrics:\n",
      "Accuracy: 0.6692, Precision: 0.5761, Recall: 0.6692, F1 Score: 0.5889, Loss: 1.0745\n",
      "Model saved with validation accuracy: 0.6692\n"
     ]
    },
    {
     "name": "stderr",
     "output_type": "stream",
     "text": [
      "Training Epoch 4/20: 100%|██████████| 83/83 [05:03<00:00,  3.66s/it]\n"
     ]
    },
    {
     "name": "stdout",
     "output_type": "stream",
     "text": [
      "Epoch [4/20], Training Loss: 1.0747\n"
     ]
    },
    {
     "name": "stderr",
     "output_type": "stream",
     "text": [
      "/home/ubuntu/.local/lib/python3.10/site-packages/sklearn/metrics/_classification.py:1509: UndefinedMetricWarning: Precision is ill-defined and being set to 0.0 in labels with no predicted samples. Use `zero_division` parameter to control this behavior.\n",
      "  _warn_prf(average, modifier, f\"{metric.capitalize()} is\", len(result))\n"
     ]
    },
    {
     "name": "stdout",
     "output_type": "stream",
     "text": [
      "Validation - Epoch [4/20] Metrics:\n",
      "Accuracy: 0.6692, Precision: 0.5761, Recall: 0.6692, F1 Score: 0.5889, Loss: 1.0745\n",
      "Model saved with validation accuracy: 0.6692\n"
     ]
    },
    {
     "name": "stderr",
     "output_type": "stream",
     "text": [
      "Training Epoch 5/20: 100%|██████████| 83/83 [05:03<00:00,  3.65s/it]\n"
     ]
    },
    {
     "name": "stdout",
     "output_type": "stream",
     "text": [
      "Epoch [5/20], Training Loss: 1.0747\n"
     ]
    },
    {
     "name": "stderr",
     "output_type": "stream",
     "text": [
      "/home/ubuntu/.local/lib/python3.10/site-packages/sklearn/metrics/_classification.py:1509: UndefinedMetricWarning: Precision is ill-defined and being set to 0.0 in labels with no predicted samples. Use `zero_division` parameter to control this behavior.\n",
      "  _warn_prf(average, modifier, f\"{metric.capitalize()} is\", len(result))\n"
     ]
    },
    {
     "name": "stdout",
     "output_type": "stream",
     "text": [
      "Validation - Epoch [5/20] Metrics:\n",
      "Accuracy: 0.6692, Precision: 0.5761, Recall: 0.6692, F1 Score: 0.5889, Loss: 1.0745\n",
      "Model saved with validation accuracy: 0.6692\n"
     ]
    },
    {
     "name": "stderr",
     "output_type": "stream",
     "text": [
      "Training Epoch 6/20: 100%|██████████| 83/83 [05:03<00:00,  3.65s/it]\n"
     ]
    },
    {
     "name": "stdout",
     "output_type": "stream",
     "text": [
      "Epoch [6/20], Training Loss: 1.0747\n"
     ]
    },
    {
     "name": "stderr",
     "output_type": "stream",
     "text": [
      "/home/ubuntu/.local/lib/python3.10/site-packages/sklearn/metrics/_classification.py:1509: UndefinedMetricWarning: Precision is ill-defined and being set to 0.0 in labels with no predicted samples. Use `zero_division` parameter to control this behavior.\n",
      "  _warn_prf(average, modifier, f\"{metric.capitalize()} is\", len(result))\n"
     ]
    },
    {
     "name": "stdout",
     "output_type": "stream",
     "text": [
      "Validation - Epoch [6/20] Metrics:\n",
      "Accuracy: 0.6692, Precision: 0.5761, Recall: 0.6692, F1 Score: 0.5889, Loss: 1.0745\n",
      "Model saved with validation accuracy: 0.6692\n"
     ]
    },
    {
     "name": "stderr",
     "output_type": "stream",
     "text": [
      "Training Epoch 7/20: 100%|██████████| 83/83 [05:03<00:00,  3.65s/it]\n"
     ]
    },
    {
     "name": "stdout",
     "output_type": "stream",
     "text": [
      "Epoch [7/20], Training Loss: 1.0747\n"
     ]
    },
    {
     "name": "stderr",
     "output_type": "stream",
     "text": [
      "/home/ubuntu/.local/lib/python3.10/site-packages/sklearn/metrics/_classification.py:1509: UndefinedMetricWarning: Precision is ill-defined and being set to 0.0 in labels with no predicted samples. Use `zero_division` parameter to control this behavior.\n",
      "  _warn_prf(average, modifier, f\"{metric.capitalize()} is\", len(result))\n"
     ]
    },
    {
     "name": "stdout",
     "output_type": "stream",
     "text": [
      "Validation - Epoch [7/20] Metrics:\n",
      "Accuracy: 0.6692, Precision: 0.5761, Recall: 0.6692, F1 Score: 0.5889, Loss: 1.0745\n",
      "Model saved with validation accuracy: 0.6692\n"
     ]
    },
    {
     "name": "stderr",
     "output_type": "stream",
     "text": [
      "Training Epoch 8/20: 100%|██████████| 83/83 [05:02<00:00,  3.65s/it]\n"
     ]
    },
    {
     "name": "stdout",
     "output_type": "stream",
     "text": [
      "Epoch [8/20], Training Loss: 1.0747\n"
     ]
    },
    {
     "name": "stderr",
     "output_type": "stream",
     "text": [
      "/home/ubuntu/.local/lib/python3.10/site-packages/sklearn/metrics/_classification.py:1509: UndefinedMetricWarning: Precision is ill-defined and being set to 0.0 in labels with no predicted samples. Use `zero_division` parameter to control this behavior.\n",
      "  _warn_prf(average, modifier, f\"{metric.capitalize()} is\", len(result))\n"
     ]
    },
    {
     "name": "stdout",
     "output_type": "stream",
     "text": [
      "Validation - Epoch [8/20] Metrics:\n",
      "Accuracy: 0.6692, Precision: 0.5761, Recall: 0.6692, F1 Score: 0.5889, Loss: 1.0745\n",
      "Model saved with validation accuracy: 0.6692\n"
     ]
    },
    {
     "name": "stderr",
     "output_type": "stream",
     "text": [
      "Training Epoch 9/20: 100%|██████████| 83/83 [05:03<00:00,  3.65s/it]\n"
     ]
    },
    {
     "name": "stdout",
     "output_type": "stream",
     "text": [
      "Epoch [9/20], Training Loss: 1.0747\n"
     ]
    },
    {
     "name": "stderr",
     "output_type": "stream",
     "text": [
      "/home/ubuntu/.local/lib/python3.10/site-packages/sklearn/metrics/_classification.py:1509: UndefinedMetricWarning: Precision is ill-defined and being set to 0.0 in labels with no predicted samples. Use `zero_division` parameter to control this behavior.\n",
      "  _warn_prf(average, modifier, f\"{metric.capitalize()} is\", len(result))\n"
     ]
    },
    {
     "name": "stdout",
     "output_type": "stream",
     "text": [
      "Validation - Epoch [9/20] Metrics:\n",
      "Accuracy: 0.6693, Precision: 0.5761, Recall: 0.6693, F1 Score: 0.5889, Loss: 1.0745\n",
      "Model saved with validation accuracy: 0.6693\n"
     ]
    },
    {
     "name": "stderr",
     "output_type": "stream",
     "text": [
      "Training Epoch 10/20: 100%|██████████| 83/83 [05:03<00:00,  3.66s/it]\n"
     ]
    },
    {
     "name": "stdout",
     "output_type": "stream",
     "text": [
      "Epoch [10/20], Training Loss: 1.0747\n"
     ]
    },
    {
     "name": "stderr",
     "output_type": "stream",
     "text": [
      "/home/ubuntu/.local/lib/python3.10/site-packages/sklearn/metrics/_classification.py:1509: UndefinedMetricWarning: Precision is ill-defined and being set to 0.0 in labels with no predicted samples. Use `zero_division` parameter to control this behavior.\n",
      "  _warn_prf(average, modifier, f\"{metric.capitalize()} is\", len(result))\n"
     ]
    },
    {
     "name": "stdout",
     "output_type": "stream",
     "text": [
      "Validation - Epoch [10/20] Metrics:\n",
      "Accuracy: 0.6692, Precision: 0.5761, Recall: 0.6692, F1 Score: 0.5889, Loss: 1.0745\n"
     ]
    },
    {
     "name": "stderr",
     "output_type": "stream",
     "text": [
      "Training Epoch 11/20: 100%|██████████| 83/83 [05:04<00:00,  3.66s/it]\n"
     ]
    },
    {
     "name": "stdout",
     "output_type": "stream",
     "text": [
      "Epoch [11/20], Training Loss: 1.0747\n"
     ]
    },
    {
     "name": "stderr",
     "output_type": "stream",
     "text": [
      "/home/ubuntu/.local/lib/python3.10/site-packages/sklearn/metrics/_classification.py:1509: UndefinedMetricWarning: Precision is ill-defined and being set to 0.0 in labels with no predicted samples. Use `zero_division` parameter to control this behavior.\n",
      "  _warn_prf(average, modifier, f\"{metric.capitalize()} is\", len(result))\n"
     ]
    },
    {
     "name": "stdout",
     "output_type": "stream",
     "text": [
      "Validation - Epoch [11/20] Metrics:\n",
      "Accuracy: 0.6692, Precision: 0.5761, Recall: 0.6692, F1 Score: 0.5889, Loss: 1.0744\n"
     ]
    },
    {
     "name": "stderr",
     "output_type": "stream",
     "text": [
      "Training Epoch 12/20: 100%|██████████| 83/83 [05:03<00:00,  3.65s/it]\n"
     ]
    },
    {
     "name": "stdout",
     "output_type": "stream",
     "text": [
      "Epoch [12/20], Training Loss: 1.0747\n"
     ]
    },
    {
     "name": "stderr",
     "output_type": "stream",
     "text": [
      "/home/ubuntu/.local/lib/python3.10/site-packages/sklearn/metrics/_classification.py:1509: UndefinedMetricWarning: Precision is ill-defined and being set to 0.0 in labels with no predicted samples. Use `zero_division` parameter to control this behavior.\n",
      "  _warn_prf(average, modifier, f\"{metric.capitalize()} is\", len(result))\n"
     ]
    },
    {
     "name": "stdout",
     "output_type": "stream",
     "text": [
      "Validation - Epoch [12/20] Metrics:\n",
      "Accuracy: 0.6693, Precision: 0.5761, Recall: 0.6693, F1 Score: 0.5889, Loss: 1.0744\n"
     ]
    },
    {
     "name": "stderr",
     "output_type": "stream",
     "text": [
      "Training Epoch 13/20: 100%|██████████| 83/83 [05:02<00:00,  3.65s/it]\n"
     ]
    },
    {
     "name": "stdout",
     "output_type": "stream",
     "text": [
      "Epoch [13/20], Training Loss: 1.0747\n"
     ]
    },
    {
     "name": "stderr",
     "output_type": "stream",
     "text": [
      "/home/ubuntu/.local/lib/python3.10/site-packages/sklearn/metrics/_classification.py:1509: UndefinedMetricWarning: Precision is ill-defined and being set to 0.0 in labels with no predicted samples. Use `zero_division` parameter to control this behavior.\n",
      "  _warn_prf(average, modifier, f\"{metric.capitalize()} is\", len(result))\n"
     ]
    },
    {
     "name": "stdout",
     "output_type": "stream",
     "text": [
      "Validation - Epoch [13/20] Metrics:\n",
      "Accuracy: 0.6693, Precision: 0.5761, Recall: 0.6693, F1 Score: 0.5889, Loss: 1.0744\n",
      "Model saved with validation accuracy: 0.6693\n"
     ]
    },
    {
     "name": "stderr",
     "output_type": "stream",
     "text": [
      "Training Epoch 14/20: 100%|██████████| 83/83 [05:03<00:00,  3.66s/it]\n"
     ]
    },
    {
     "name": "stdout",
     "output_type": "stream",
     "text": [
      "Epoch [14/20], Training Loss: 1.0747\n"
     ]
    },
    {
     "name": "stderr",
     "output_type": "stream",
     "text": [
      "/home/ubuntu/.local/lib/python3.10/site-packages/sklearn/metrics/_classification.py:1509: UndefinedMetricWarning: Precision is ill-defined and being set to 0.0 in labels with no predicted samples. Use `zero_division` parameter to control this behavior.\n",
      "  _warn_prf(average, modifier, f\"{metric.capitalize()} is\", len(result))\n"
     ]
    },
    {
     "name": "stdout",
     "output_type": "stream",
     "text": [
      "Validation - Epoch [14/20] Metrics:\n",
      "Accuracy: 0.6693, Precision: 0.5761, Recall: 0.6693, F1 Score: 0.5889, Loss: 1.0744\n",
      "Model saved with validation accuracy: 0.6693\n"
     ]
    },
    {
     "name": "stderr",
     "output_type": "stream",
     "text": [
      "Training Epoch 15/20: 100%|██████████| 83/83 [05:05<00:00,  3.68s/it]\n"
     ]
    },
    {
     "name": "stdout",
     "output_type": "stream",
     "text": [
      "Epoch [15/20], Training Loss: 1.0748\n"
     ]
    },
    {
     "name": "stderr",
     "output_type": "stream",
     "text": [
      "/home/ubuntu/.local/lib/python3.10/site-packages/sklearn/metrics/_classification.py:1509: UndefinedMetricWarning: Precision is ill-defined and being set to 0.0 in labels with no predicted samples. Use `zero_division` parameter to control this behavior.\n",
      "  _warn_prf(average, modifier, f\"{metric.capitalize()} is\", len(result))\n"
     ]
    },
    {
     "name": "stdout",
     "output_type": "stream",
     "text": [
      "Validation - Epoch [15/20] Metrics:\n",
      "Accuracy: 0.6692, Precision: 0.5760, Recall: 0.6692, F1 Score: 0.5889, Loss: 1.0745\n"
     ]
    },
    {
     "name": "stderr",
     "output_type": "stream",
     "text": [
      "Training Epoch 16/20: 100%|██████████| 83/83 [05:03<00:00,  3.65s/it]\n"
     ]
    },
    {
     "name": "stdout",
     "output_type": "stream",
     "text": [
      "Epoch [16/20], Training Loss: 1.0752\n"
     ]
    },
    {
     "name": "stderr",
     "output_type": "stream",
     "text": [
      "/home/ubuntu/.local/lib/python3.10/site-packages/sklearn/metrics/_classification.py:1509: UndefinedMetricWarning: Precision is ill-defined and being set to 0.0 in labels with no predicted samples. Use `zero_division` parameter to control this behavior.\n",
      "  _warn_prf(average, modifier, f\"{metric.capitalize()} is\", len(result))\n"
     ]
    },
    {
     "name": "stdout",
     "output_type": "stream",
     "text": [
      "Validation - Epoch [16/20] Metrics:\n",
      "Accuracy: 0.6692, Precision: 0.5761, Recall: 0.6692, F1 Score: 0.5889, Loss: 1.0745\n"
     ]
    },
    {
     "name": "stderr",
     "output_type": "stream",
     "text": [
      "Training Epoch 17/20: 100%|██████████| 83/83 [05:03<00:00,  3.66s/it]\n"
     ]
    },
    {
     "name": "stdout",
     "output_type": "stream",
     "text": [
      "Epoch [17/20], Training Loss: 1.0748\n"
     ]
    },
    {
     "name": "stderr",
     "output_type": "stream",
     "text": [
      "/home/ubuntu/.local/lib/python3.10/site-packages/sklearn/metrics/_classification.py:1509: UndefinedMetricWarning: Precision is ill-defined and being set to 0.0 in labels with no predicted samples. Use `zero_division` parameter to control this behavior.\n",
      "  _warn_prf(average, modifier, f\"{metric.capitalize()} is\", len(result))\n"
     ]
    },
    {
     "name": "stdout",
     "output_type": "stream",
     "text": [
      "Validation - Epoch [17/20] Metrics:\n",
      "Accuracy: 0.6693, Precision: 0.5762, Recall: 0.6693, F1 Score: 0.5890, Loss: 1.0744\n",
      "Model saved with validation accuracy: 0.6693\n"
     ]
    },
    {
     "name": "stderr",
     "output_type": "stream",
     "text": [
      "Training Epoch 18/20: 100%|██████████| 83/83 [05:03<00:00,  3.66s/it]\n"
     ]
    },
    {
     "name": "stdout",
     "output_type": "stream",
     "text": [
      "Epoch [18/20], Training Loss: 1.0747\n"
     ]
    },
    {
     "name": "stderr",
     "output_type": "stream",
     "text": [
      "/home/ubuntu/.local/lib/python3.10/site-packages/sklearn/metrics/_classification.py:1509: UndefinedMetricWarning: Precision is ill-defined and being set to 0.0 in labels with no predicted samples. Use `zero_division` parameter to control this behavior.\n",
      "  _warn_prf(average, modifier, f\"{metric.capitalize()} is\", len(result))\n"
     ]
    },
    {
     "name": "stdout",
     "output_type": "stream",
     "text": [
      "Validation - Epoch [18/20] Metrics:\n",
      "Accuracy: 0.6693, Precision: 0.5761, Recall: 0.6693, F1 Score: 0.5890, Loss: 1.0744\n"
     ]
    },
    {
     "name": "stderr",
     "output_type": "stream",
     "text": [
      "Training Epoch 19/20: 100%|██████████| 83/83 [05:04<00:00,  3.66s/it]\n"
     ]
    },
    {
     "name": "stdout",
     "output_type": "stream",
     "text": [
      "Epoch [19/20], Training Loss: 1.0747\n"
     ]
    },
    {
     "name": "stderr",
     "output_type": "stream",
     "text": [
      "/home/ubuntu/.local/lib/python3.10/site-packages/sklearn/metrics/_classification.py:1509: UndefinedMetricWarning: Precision is ill-defined and being set to 0.0 in labels with no predicted samples. Use `zero_division` parameter to control this behavior.\n",
      "  _warn_prf(average, modifier, f\"{metric.capitalize()} is\", len(result))\n"
     ]
    },
    {
     "name": "stdout",
     "output_type": "stream",
     "text": [
      "Validation - Epoch [19/20] Metrics:\n",
      "Accuracy: 0.6693, Precision: 0.5761, Recall: 0.6693, F1 Score: 0.5890, Loss: 1.0744\n"
     ]
    },
    {
     "name": "stderr",
     "output_type": "stream",
     "text": [
      "Training Epoch 20/20: 100%|██████████| 83/83 [05:03<00:00,  3.66s/it]\n"
     ]
    },
    {
     "name": "stdout",
     "output_type": "stream",
     "text": [
      "Epoch [20/20], Training Loss: 1.0747\n"
     ]
    },
    {
     "name": "stderr",
     "output_type": "stream",
     "text": [
      "/home/ubuntu/.local/lib/python3.10/site-packages/sklearn/metrics/_classification.py:1509: UndefinedMetricWarning: Precision is ill-defined and being set to 0.0 in labels with no predicted samples. Use `zero_division` parameter to control this behavior.\n",
      "  _warn_prf(average, modifier, f\"{metric.capitalize()} is\", len(result))\n"
     ]
    },
    {
     "name": "stdout",
     "output_type": "stream",
     "text": [
      "Validation - Epoch [20/20] Metrics:\n",
      "Accuracy: 0.6693, Precision: 0.5762, Recall: 0.6693, F1 Score: 0.5890, Loss: 1.0744\n",
      "Model saved with validation accuracy: 0.6693\n"
     ]
    },
    {
     "name": "stderr",
     "output_type": "stream",
     "text": [
      "/home/ubuntu/.local/lib/python3.10/site-packages/sklearn/metrics/_classification.py:1509: UndefinedMetricWarning: Precision is ill-defined and being set to 0.0 in labels with no predicted samples. Use `zero_division` parameter to control this behavior.\n",
      "  _warn_prf(average, modifier, f\"{metric.capitalize()} is\", len(result))\n"
     ]
    },
    {
     "name": "stdout",
     "output_type": "stream",
     "text": [
      "\n",
      "Final Test Data Evaluation Metrics:\n",
      "Accuracy: 0.9026\n",
      "Precision: 0.8442\n",
      "Recall: 0.9026\n",
      "F1 Score: 0.8674\n",
      "Loss: 0.8397\n"
     ]
    },
    {
     "data": {
      "image/png": "[encoded data removed]",
      "text/plain": [
       "<Figure size 1000x800 with 2 Axes>"
      ]
     },
     "metadata": {},
     "output_type": "display_data"
    }
   ],
   "source": [
    "# LSTM for age\n",
    "import torch\n",
    "import torch.nn as nn\n",
    "import torch.optim as optim\n",
    "from torch.utils.data import DataLoader, TensorDataset, random_split\n",
    "from sklearn.metrics import accuracy_score, precision_score, recall_score, f1_score, confusion_matrix\n",
    "import matplotlib.pyplot as plt\n",
    "import seaborn as sns\n",
    "from tqdm import tqdm\n",
    "import shap\n",
    "import os\n",
    "\n",
    "# Check for GPU\n",
    "device = torch.device(\"cuda\" if torch.cuda.is_available() else \"cpu\")\n",
    "print(f\"Using device: {device}\")\n",
    "\n",
    "# Convert data to PyTorch tensors and create DataLoader\n",
    "X_train_age_tensor = torch.tensor(X_train_age.values, dtype=torch.float32).unsqueeze(2).to(device)\n",
    "X_test_age_tensor = torch.tensor(X_test_age.values, dtype=torch.float32).unsqueeze(2).to(device)\n",
    "y_train_age_tensor = torch.tensor(y_train_age, dtype=torch.long).to(device)  # Use long for CrossEntropyLoss\n",
    "y_test_age_tensor = torch.tensor(y_test_age, dtype=torch.long).to(device)\n",
    "\n",
    "# Split the training data into training and validation sets\n",
    "train_size = int(0.8 * len(X_train_age_tensor))\n",
    "val_size = len(X_train_age_tensor) - train_size\n",
    "train_dataset, val_dataset = random_split(TensorDataset(X_train_age_tensor, y_train_age_tensor), [train_size, val_size])\n",
    "\n",
    "train_loader = DataLoader(train_dataset, batch_size=256*1024, shuffle=True)\n",
    "val_loader = DataLoader(val_dataset, batch_size=256*1024, shuffle=False)\n",
    "test_loader = DataLoader(TensorDataset(X_test_age_tensor, y_test_age_tensor), batch_size=256*1024, shuffle=False)\n",
    "\n",
    "# Define the LSTM model\n",
    "class LSTMAgeModel(nn.Module):\n",
    "    def __init__(self, input_size, hidden_size, num_layers, num_classes):\n",
    "        super(LSTMAgeModel, self).__init__()\n",
    "        self.lstm = nn.LSTM(input_size, hidden_size, num_layers, batch_first=True)\n",
    "        self.fc = nn.Linear(hidden_size, num_classes)\n",
    "        self.softmax = nn.Softmax(dim=1)\n",
    "\n",
    "    def forward(self, x):\n",
    "        h0 = torch.zeros(num_layers, x.size(0), hidden_size).to(device)\n",
    "        c0 = torch.zeros(num_layers, x.size(0), hidden_size).to(device)\n",
    "        out, _ = self.lstm(x, (h0, c0))\n",
    "        out = self.fc(out[:, -1, :])\n",
    "        out = self.softmax(out)\n",
    "        return out\n",
    "\n",
    "# Model parameters\n",
    "input_size = 1\n",
    "hidden_size = 128\n",
    "num_layers = 2\n",
    "num_classes = len(set(y_train_age))  # Number of unique age bins\n",
    "\n",
    "# Instantiate the model, define the loss function and the optimizer\n",
    "model = LSTMAgeModel(input_size, hidden_size, num_layers, num_classes).to(device)\n",
    "criterion = nn.CrossEntropyLoss()\n",
    "optimizer = optim.Adam(model.parameters(), lr=0.01)\n",
    "\n",
    "# Evaluation function\n",
    "def evaluate_model(model, loader):\n",
    "    model.eval()\n",
    "    y_pred = []\n",
    "    y_true = []\n",
    "    running_loss = 0.0\n",
    "    with torch.no_grad():\n",
    "        for X_batch, y_batch in tqdm(loader, desc=\"Evaluating\", leave=False):\n",
    "            outputs = model(X_batch)\n",
    "            _, preds = torch.max(outputs, 1)\n",
    "            y_pred.extend(preds.cpu().tolist())\n",
    "            y_true.extend(y_batch.cpu().tolist())\n",
    "            loss = criterion(outputs, y_batch)\n",
    "            running_loss += loss.item()\n",
    "\n",
    "    # Metrics\n",
    "    accuracy = accuracy_score(y_true, y_pred)\n",
    "    precision = precision_score(y_true, y_pred, average='weighted')\n",
    "    recall = recall_score(y_true, y_pred, average='weighted')\n",
    "    f1 = f1_score(y_true, y_pred, average='weighted')\n",
    "\n",
    "    return accuracy, precision, recall, f1, running_loss/len(loader)\n",
    "\n",
    "# Train the model\n",
    "num_epochs = 20\n",
    "best_val_accuracy = 0.0\n",
    "best_model_path = \"best_model_age_LSTM.pth\"\n",
    "\n",
    "for epoch in range(num_epochs):\n",
    "    model.train()\n",
    "    running_loss = 0.0\n",
    "    for X_batch, y_batch in tqdm(train_loader, desc=f\"Training Epoch {epoch+1}/{num_epochs}\"):\n",
    "        optimizer.zero_grad()\n",
    "        outputs = model(X_batch)\n",
    "        loss = criterion(outputs, y_batch)\n",
    "        loss.backward()\n",
    "        optimizer.step()\n",
    "        running_loss += loss.item()\n",
    "    \n",
    "    print(f'Epoch [{epoch+1}/{num_epochs}], Training Loss: {running_loss/len(train_loader):.4f}')\n",
    "    \n",
    "    # Evaluate on validation data\n",
    "    val_accuracy, val_precision, val_recall, val_f1, val_loss = evaluate_model(model, val_loader)\n",
    "    print(f\"Validation - Epoch [{epoch+1}/{num_epochs}] Metrics:\")\n",
    "    print(f\"Accuracy: {val_accuracy:.4f}, Precision: {val_precision:.4f}, Recall: {val_recall:.4f}, F1 Score: {val_f1:.4f}, Loss: {val_loss:.4f}\")\n",
    "\n",
    "    # Save the model if it has the best validation accuracy so far\n",
    "    if val_accuracy > best_val_accuracy:\n",
    "        best_val_accuracy = val_accuracy\n",
    "        torch.save(model.state_dict(), best_model_path)\n",
    "        print(f\"Model saved with validation accuracy: {best_val_accuracy:.4f}\")\n",
    "\n",
    "# Load the best model\n",
    "model.load_state_dict(torch.load(best_model_path))\n",
    "\n",
    "# Final evaluation on test data\n",
    "test_accuracy, test_precision, test_recall, test_f1, test_loss = evaluate_model(model, test_loader)\n",
    "print(\"\\nFinal Test Data Evaluation Metrics:\")\n",
    "print(f\"Accuracy: {test_accuracy:.4f}\")\n",
    "print(f\"Precision: {test_precision:.4f}\")\n",
    "print(f\"Recall: {test_recall:.4f}\")\n",
    "print(f\"F1 Score: {test_f1:.4f}\")\n",
    "print(f\"Loss: {test_loss:.4f}\")\n",
    "\n",
    "# Plot confusion matrix\n",
    "y_true, y_pred = [], []\n",
    "model.eval()\n",
    "with torch.no_grad():\n",
    "    for X_batch, y_batch in test_loader:\n",
    "        outputs = model(X_batch)\n",
    "        _, preds = torch.max(outputs, 1)\n",
    "        y_pred.extend(preds.cpu().tolist())\n",
    "        y_true.extend(y_batch.cpu().tolist())\n",
    "\n",
    "cm = confusion_matrix(y_true, y_pred)\n",
    "plt.figure(figsize=(10, 8))\n",
    "sns.heatmap(cm, annot=True, fmt=\"d\", cmap='Blues')\n",
    "plt.title('Confusion Matrix for Age Identification (LSTM)')\n",
    "plt.ylabel('True Label')\n",
    "plt.xlabel('Predicted Label')\n",
    "plt.show()\n",
    "\n",
    "# SHAP analysis (for interpretability)\n",
    "# Note: SHAP for PyTorch models may require using the DeepExplainer\n",
    "# explainer = shap.DeepExplainer(model, X_train_age_tensor)\n",
    "# shap_values = explainer.shap_values(X_test_age_tensor)\n",
    "# shap.summary_plot(shap_values, X_test_age_tensor, plot_type=\"bar\")\n"
   ]
  },
  {
   "cell_type": "code",
   "execution_count": 4,
   "metadata": {},
   "outputs": [
    {
     "name": "stdout",
     "output_type": "stream",
     "text": [
      "Using device: cuda\n",
      "Number of unique patient IDs: 23\n"
     ]
    },
    {
     "name": "stderr",
     "output_type": "stream",
     "text": [
      "Training Epoch 1/20: 100%|██████████| 92/92 [08:20<00:00,  5.44s/it]\n"
     ]
    },
    {
     "name": "stdout",
     "output_type": "stream",
     "text": [
      "Epoch [1/20], Training Loss: 2.0282\n"
     ]
    },
    {
     "name": "stderr",
     "output_type": "stream",
     "text": [
      "/home/ubuntu/.local/lib/python3.10/site-packages/sklearn/metrics/_classification.py:1509: UndefinedMetricWarning: Precision is ill-defined and being set to 0.0 in labels with no predicted samples. Use `zero_division` parameter to control this behavior.\n",
      "  _warn_prf(average, modifier, f\"{metric.capitalize()} is\", len(result))\n"
     ]
    },
    {
     "name": "stdout",
     "output_type": "stream",
     "text": [
      "Validation - Epoch [1/20] Metrics:\n",
      "Accuracy: 0.3253, Precision: 0.2791, Recall: 0.3253, F1 Score: 0.2384, Loss: 1.8406\n",
      "Model saved with validation accuracy: 0.3253\n"
     ]
    },
    {
     "name": "stderr",
     "output_type": "stream",
     "text": [
      "Training Epoch 2/20:  64%|██████▍   | 59/92 [05:21<03:04,  5.59s/it]"
     ]
    }
   ],
   "source": [
    "# LSTM for patient ID\n",
    "import torch\n",
    "import torch.nn as nn\n",
    "import torch.optim as optim\n",
    "from torch.utils.data import DataLoader, TensorDataset, random_split\n",
    "from sklearn.metrics import accuracy_score, precision_score, recall_score, f1_score, confusion_matrix\n",
    "from sklearn.preprocessing import LabelEncoder\n",
    "import matplotlib.pyplot as plt\n",
    "import seaborn as sns\n",
    "from tqdm import tqdm\n",
    "import shap\n",
    "import os\n",
    "\n",
    "# Check for GPU\n",
    "device = torch.device(\"cuda\" if torch.cuda.is_available() else \"cpu\")\n",
    "print(f\"Using device: {device}\")\n",
    "\n",
    "# Encode participant labels\n",
    "label_encoder = LabelEncoder()\n",
    "y_train_id_encoded = label_encoder.fit_transform(y_train_id)\n",
    "y_test_id_encoded = label_encoder.transform(y_test_id)\n",
    "num_classes = len(label_encoder.classes_)\n",
    "\n",
    "# Convert data to PyTorch tensors and create DataLoader\n",
    "X_train_id_tensor = torch.tensor(X_train_id.values, dtype=torch.float32).unsqueeze(2).to(device)\n",
    "X_test_id_tensor = torch.tensor(X_test_id.values, dtype=torch.float32).unsqueeze(2).to(device)\n",
    "y_train_id_tensor = torch.tensor(y_train_id_encoded, dtype=torch.long).to(device)  # Use long for CrossEntropyLoss\n",
    "y_test_id_tensor = torch.tensor(y_test_id_encoded, dtype=torch.long).to(device)\n",
    "\n",
    "# Split the training data into training and validation sets\n",
    "train_size = int(0.8 * len(X_train_id_tensor))\n",
    "val_size = len(X_train_id_tensor) - train_size\n",
    "train_dataset, val_dataset = random_split(TensorDataset(X_train_id_tensor, y_train_id_tensor), [train_size, val_size])\n",
    "\n",
    "train_loader = DataLoader(train_dataset, batch_size=256*1024, shuffle=True)\n",
    "val_loader = DataLoader(val_dataset, batch_size=256*1024, shuffle=False)\n",
    "test_loader = DataLoader(TensorDataset(X_test_id_tensor, y_test_id_tensor), batch_size=256*1024, shuffle=False)\n",
    "\n",
    "print(f\"Number of unique patient IDs: {num_classes}\")\n",
    "\n",
    "# Define the LSTM model\n",
    "class LSTMIDModel(nn.Module):\n",
    "    def __init__(self, input_size, hidden_size, num_layers, num_classes):\n",
    "        super(LSTMIDModel, self).__init__()\n",
    "        self.lstm = nn.LSTM(input_size, hidden_size, num_layers, batch_first=True, dropout=0.3)\n",
    "        self.fc1 = nn.Linear(hidden_size, 256)\n",
    "        self.fc2 = nn.Linear(256, 128)\n",
    "        self.fc3 = nn.Linear(128, num_classes)\n",
    "        self.dropout = nn.Dropout(0.5)\n",
    "        self.relu = nn.ReLU()\n",
    "\n",
    "    def forward(self, x):\n",
    "        h0 = torch.zeros(num_layers, x.size(0), hidden_size).to(device)\n",
    "        c0 = torch.zeros(num_layers, x.size(0), hidden_size).to(device)\n",
    "        out, _ = self.lstm(x, (h0, c0))\n",
    "        out = self.fc1(out[:, -1, :])\n",
    "        out = self.relu(out)\n",
    "        out = self.dropout(out)\n",
    "        out = self.fc2(out)\n",
    "        out = self.relu(out)\n",
    "        out = self.dropout(out)\n",
    "        out = self.fc3(out)\n",
    "        return out\n",
    "\n",
    "# Model parameters\n",
    "input_size = 1\n",
    "hidden_size = 256\n",
    "num_layers = 3\n",
    "\n",
    "# Instantiate the model, define the loss function and the optimizer\n",
    "model = LSTMIDModel(input_size, hidden_size, num_layers, num_classes).to(device)\n",
    "criterion = nn.CrossEntropyLoss()\n",
    "optimizer = optim.Adam(model.parameters(), lr=0.01)\n",
    "\n",
    "# Evaluation function\n",
    "def evaluate_model(model, loader):\n",
    "    model.eval()\n",
    "    y_pred = []\n",
    "    y_true = []\n",
    "    running_loss = 0.0\n",
    "    with torch.no_grad():\n",
    "        for X_batch, y_batch in tqdm(loader, desc=\"Evaluating\", leave=False):\n",
    "            outputs = model(X_batch)\n",
    "            _, preds = torch.max(outputs, 1)\n",
    "            y_pred.extend(preds.cpu().tolist())\n",
    "            y_true.extend(y_batch.cpu().tolist())\n",
    "            loss = criterion(outputs, y_batch)\n",
    "            running_loss += loss.item()\n",
    "\n",
    "    # Metrics\n",
    "    accuracy = accuracy_score(y_true, y_pred)\n",
    "    precision = precision_score(y_true, y_pred, average='weighted')\n",
    "    recall = recall_score(y_true, y_pred, average='weighted')\n",
    "    f1 = f1_score(y_true, y_pred, average='weighted')\n",
    "\n",
    "    return accuracy, precision, recall, f1, running_loss/len(loader)\n",
    "\n",
    "# Train the model\n",
    "num_epochs = 20\n",
    "best_val_accuracy = 0.0\n",
    "best_model_path = \"best_model_patient_ID_LSTM.pth\"\n",
    "\n",
    "for epoch in range(num_epochs):\n",
    "    model.train()\n",
    "    running_loss = 0.0\n",
    "    for X_batch, y_batch in tqdm(train_loader, desc=f\"Training Epoch {epoch+1}/{num_epochs}\"):\n",
    "        optimizer.zero_grad()\n",
    "        outputs = model(X_batch)\n",
    "        loss = criterion(outputs, y_batch)\n",
    "        loss.backward()\n",
    "        optimizer.step()\n",
    "        running_loss += loss.item()\n",
    "    \n",
    "    print(f'Epoch [{epoch+1}/{num_epochs}], Training Loss: {running_loss/len(train_loader):.4f}')\n",
    "    \n",
    "    # Evaluate on validation data\n",
    "    val_accuracy, val_precision, val_recall, val_f1, val_loss = evaluate_model(model, val_loader)\n",
    "    print(f\"Validation - Epoch [{epoch+1}/{num_epochs}] Metrics:\")\n",
    "    print(f\"Accuracy: {val_accuracy:.4f}, Precision: {val_precision:.4f}, Recall: {val_recall:.4f}, F1 Score: {val_f1:.4f}, Loss: {val_loss:.4f}\")\n",
    "\n",
    "    # Save the model if it has the best validation accuracy so far\n",
    "    if val_accuracy > best_val_accuracy:\n",
    "        best_val_accuracy = val_accuracy\n",
    "        torch.save(model.state_dict(), best_model_path)\n",
    "        print(f\"Model saved with validation accuracy: {best_val_accuracy:.4f}\")\n",
    "\n",
    "# Load the best model\n",
    "model.load_state_dict(torch.load(best_model_path))\n",
    "\n",
    "# Final evaluation on test data\n",
    "test_accuracy, test_precision, test_recall, test_f1, test_loss = evaluate_model(model, test_loader)\n",
    "print(\"\\nFinal Test Data Evaluation Metrics:\")\n",
    "print(f\"Accuracy: {test_accuracy:.4f}\")\n",
    "print(f\"Precision: {test_precision:.4f}\")\n",
    "print(f\"Recall: {test_recall:.4f}\")\n",
    "print(f\"F1 Score: {test_f1:.4f}\")\n",
    "print(f\"Loss: {test_loss:.4f}\")\n",
    "\n",
    "# Plot confusion matrix\n",
    "y_true, y_pred = [], []\n",
    "model.eval()\n",
    "with torch.no_grad():\n",
    "    for X_batch, y_batch in test_loader:\n",
    "        outputs = model(X_batch)\n",
    "        _, preds = torch.max(outputs, 1)\n",
    "        y_pred.extend(preds.cpu().tolist())\n",
    "        y_true.extend(y_batch.cpu().tolist())\n",
    "\n",
    "cm = confusion_matrix(y_true, y_pred)\n",
    "plt.figure(figsize=(20, 16))\n",
    "sns.heatmap(cm, annot=True, fmt=\"d\", cmap='Blues')\n",
    "plt.title('Confusion Matrix for Patient ID Identification (LSTM)')\n",
    "plt.ylabel('True Label')\n",
    "plt.xlabel('Predicted Label')\n",
    "plt.show()\n",
    "\n",
    "# SHAP analysis (for interpretability)\n",
    "# Note: SHAP for PyTorch models may require using the DeepExplainer\n",
    "# explainer = shap.DeepExplainer(model, X_train_id_tensor)\n",
    "# shap_values = explainer.shap_values(X_test_id_tensor)\n",
    "# shap.summary_plot(shap_values, X_test_id_tensor, plot_type=\"bar\")\n"
   ]
  },
  {
   "cell_type": "code",
   "execution_count": null,
   "metadata": {},
   "outputs": [
    {
     "name": "stdout",
     "output_type": "stream",
     "text": [
      "Using device: cuda\n",
      "Number of unique patient IDs: 23\n"
     ]
    },
    {
     "name": "stderr",
     "output_type": "stream",
     "text": [
      "Training Epoch 1/50:   0%|          | 0/92 [00:04<?, ?it/s]\n"
     ]
    },
    {
     "ename": "KeyboardInterrupt",
     "evalue": "",
     "output_type": "error",
     "traceback": [
      "\u001b[0;31m---------------------------------------------------------------------------\u001b[0m",
      "\u001b[0;31mKeyboardInterrupt\u001b[0m                         Traceback (most recent call last)",
      "Cell \u001b[0;32mIn[3], line 105\u001b[0m\n\u001b[1;32m    103\u001b[0m model\u001b[38;5;241m.\u001b[39mtrain()\n\u001b[1;32m    104\u001b[0m running_loss \u001b[38;5;241m=\u001b[39m \u001b[38;5;241m0.0\u001b[39m\n\u001b[0;32m--> 105\u001b[0m \u001b[38;5;28;01mfor\u001b[39;00m X_batch, y_batch \u001b[38;5;129;01min\u001b[39;00m tqdm(train_loader, desc\u001b[38;5;241m=\u001b[39m\u001b[38;5;124mf\u001b[39m\u001b[38;5;124m\"\u001b[39m\u001b[38;5;124mTraining Epoch \u001b[39m\u001b[38;5;132;01m{\u001b[39;00mepoch\u001b[38;5;241m+\u001b[39m\u001b[38;5;241m1\u001b[39m\u001b[38;5;132;01m}\u001b[39;00m\u001b[38;5;124m/\u001b[39m\u001b[38;5;132;01m{\u001b[39;00mnum_epochs\u001b[38;5;132;01m}\u001b[39;00m\u001b[38;5;124m\"\u001b[39m):\n\u001b[1;32m    106\u001b[0m     optimizer\u001b[38;5;241m.\u001b[39mzero_grad()\n\u001b[1;32m    107\u001b[0m     outputs \u001b[38;5;241m=\u001b[39m model(X_batch)\n",
      "File \u001b[0;32m~/.local/lib/python3.10/site-packages/tqdm/std.py:1181\u001b[0m, in \u001b[0;36mtqdm.__iter__\u001b[0;34m(self)\u001b[0m\n\u001b[1;32m   1178\u001b[0m time \u001b[38;5;241m=\u001b[39m \u001b[38;5;28mself\u001b[39m\u001b[38;5;241m.\u001b[39m_time\n\u001b[1;32m   1180\u001b[0m \u001b[38;5;28;01mtry\u001b[39;00m:\n\u001b[0;32m-> 1181\u001b[0m     \u001b[38;5;28;01mfor\u001b[39;00m obj \u001b[38;5;129;01min\u001b[39;00m iterable:\n\u001b[1;32m   1182\u001b[0m         \u001b[38;5;28;01myield\u001b[39;00m obj\n\u001b[1;32m   1183\u001b[0m         \u001b[38;5;66;03m# Update and possibly print the progressbar.\u001b[39;00m\n\u001b[1;32m   1184\u001b[0m         \u001b[38;5;66;03m# Note: does not call self.update(1) for speed optimisation.\u001b[39;00m\n",
      "File \u001b[0;32m~/anaconda3/envs/llm/lib/python3.10/site-packages/torch/utils/data/dataloader.py:630\u001b[0m, in \u001b[0;36m_BaseDataLoaderIter.__next__\u001b[0;34m(self)\u001b[0m\n\u001b[1;32m    627\u001b[0m \u001b[38;5;28;01mif\u001b[39;00m \u001b[38;5;28mself\u001b[39m\u001b[38;5;241m.\u001b[39m_sampler_iter \u001b[38;5;129;01mis\u001b[39;00m \u001b[38;5;28;01mNone\u001b[39;00m:\n\u001b[1;32m    628\u001b[0m     \u001b[38;5;66;03m# TODO(https://github.com/pytorch/pytorch/issues/76750)\u001b[39;00m\n\u001b[1;32m    629\u001b[0m     \u001b[38;5;28mself\u001b[39m\u001b[38;5;241m.\u001b[39m_reset()  \u001b[38;5;66;03m# type: ignore[call-arg]\u001b[39;00m\n\u001b[0;32m--> 630\u001b[0m data \u001b[38;5;241m=\u001b[39m \u001b[38;5;28;43mself\u001b[39;49m\u001b[38;5;241;43m.\u001b[39;49m\u001b[43m_next_data\u001b[49m\u001b[43m(\u001b[49m\u001b[43m)\u001b[49m\n\u001b[1;32m    631\u001b[0m \u001b[38;5;28mself\u001b[39m\u001b[38;5;241m.\u001b[39m_num_yielded \u001b[38;5;241m+\u001b[39m\u001b[38;5;241m=\u001b[39m \u001b[38;5;241m1\u001b[39m\n\u001b[1;32m    632\u001b[0m \u001b[38;5;28;01mif\u001b[39;00m \u001b[38;5;28mself\u001b[39m\u001b[38;5;241m.\u001b[39m_dataset_kind \u001b[38;5;241m==\u001b[39m _DatasetKind\u001b[38;5;241m.\u001b[39mIterable \u001b[38;5;129;01mand\u001b[39;00m \\\n\u001b[1;32m    633\u001b[0m         \u001b[38;5;28mself\u001b[39m\u001b[38;5;241m.\u001b[39m_IterableDataset_len_called \u001b[38;5;129;01mis\u001b[39;00m \u001b[38;5;129;01mnot\u001b[39;00m \u001b[38;5;28;01mNone\u001b[39;00m \u001b[38;5;129;01mand\u001b[39;00m \\\n\u001b[1;32m    634\u001b[0m         \u001b[38;5;28mself\u001b[39m\u001b[38;5;241m.\u001b[39m_num_yielded \u001b[38;5;241m>\u001b[39m \u001b[38;5;28mself\u001b[39m\u001b[38;5;241m.\u001b[39m_IterableDataset_len_called:\n",
      "File \u001b[0;32m~/anaconda3/envs/llm/lib/python3.10/site-packages/torch/utils/data/dataloader.py:674\u001b[0m, in \u001b[0;36m_SingleProcessDataLoaderIter._next_data\u001b[0;34m(self)\u001b[0m\n\u001b[1;32m    672\u001b[0m \u001b[38;5;28;01mdef\u001b[39;00m \u001b[38;5;21m_next_data\u001b[39m(\u001b[38;5;28mself\u001b[39m):\n\u001b[1;32m    673\u001b[0m     index \u001b[38;5;241m=\u001b[39m \u001b[38;5;28mself\u001b[39m\u001b[38;5;241m.\u001b[39m_next_index()  \u001b[38;5;66;03m# may raise StopIteration\u001b[39;00m\n\u001b[0;32m--> 674\u001b[0m     data \u001b[38;5;241m=\u001b[39m \u001b[38;5;28;43mself\u001b[39;49m\u001b[38;5;241;43m.\u001b[39;49m\u001b[43m_dataset_fetcher\u001b[49m\u001b[38;5;241;43m.\u001b[39;49m\u001b[43mfetch\u001b[49m\u001b[43m(\u001b[49m\u001b[43mindex\u001b[49m\u001b[43m)\u001b[49m  \u001b[38;5;66;03m# may raise StopIteration\u001b[39;00m\n\u001b[1;32m    675\u001b[0m     \u001b[38;5;28;01mif\u001b[39;00m \u001b[38;5;28mself\u001b[39m\u001b[38;5;241m.\u001b[39m_pin_memory:\n\u001b[1;32m    676\u001b[0m         data \u001b[38;5;241m=\u001b[39m _utils\u001b[38;5;241m.\u001b[39mpin_memory\u001b[38;5;241m.\u001b[39mpin_memory(data, \u001b[38;5;28mself\u001b[39m\u001b[38;5;241m.\u001b[39m_pin_memory_device)\n",
      "File \u001b[0;32m~/anaconda3/envs/llm/lib/python3.10/site-packages/torch/utils/data/_utils/fetch.py:49\u001b[0m, in \u001b[0;36m_MapDatasetFetcher.fetch\u001b[0;34m(self, possibly_batched_index)\u001b[0m\n\u001b[1;32m     47\u001b[0m \u001b[38;5;28;01mif\u001b[39;00m \u001b[38;5;28mself\u001b[39m\u001b[38;5;241m.\u001b[39mauto_collation:\n\u001b[1;32m     48\u001b[0m     \u001b[38;5;28;01mif\u001b[39;00m \u001b[38;5;28mhasattr\u001b[39m(\u001b[38;5;28mself\u001b[39m\u001b[38;5;241m.\u001b[39mdataset, \u001b[38;5;124m\"\u001b[39m\u001b[38;5;124m__getitems__\u001b[39m\u001b[38;5;124m\"\u001b[39m) \u001b[38;5;129;01mand\u001b[39;00m \u001b[38;5;28mself\u001b[39m\u001b[38;5;241m.\u001b[39mdataset\u001b[38;5;241m.\u001b[39m__getitems__:\n\u001b[0;32m---> 49\u001b[0m         data \u001b[38;5;241m=\u001b[39m \u001b[38;5;28;43mself\u001b[39;49m\u001b[38;5;241;43m.\u001b[39;49m\u001b[43mdataset\u001b[49m\u001b[38;5;241;43m.\u001b[39;49m\u001b[43m__getitems__\u001b[49m\u001b[43m(\u001b[49m\u001b[43mpossibly_batched_index\u001b[49m\u001b[43m)\u001b[49m\n\u001b[1;32m     50\u001b[0m     \u001b[38;5;28;01melse\u001b[39;00m:\n\u001b[1;32m     51\u001b[0m         data \u001b[38;5;241m=\u001b[39m [\u001b[38;5;28mself\u001b[39m\u001b[38;5;241m.\u001b[39mdataset[idx] \u001b[38;5;28;01mfor\u001b[39;00m idx \u001b[38;5;129;01min\u001b[39;00m possibly_batched_index]\n",
      "File \u001b[0;32m~/anaconda3/envs/llm/lib/python3.10/site-packages/torch/utils/data/dataset.py:364\u001b[0m, in \u001b[0;36mSubset.__getitems__\u001b[0;34m(self, indices)\u001b[0m\n\u001b[1;32m    362\u001b[0m     \u001b[38;5;28;01mreturn\u001b[39;00m \u001b[38;5;28mself\u001b[39m\u001b[38;5;241m.\u001b[39mdataset\u001b[38;5;241m.\u001b[39m__getitems__([\u001b[38;5;28mself\u001b[39m\u001b[38;5;241m.\u001b[39mindices[idx] \u001b[38;5;28;01mfor\u001b[39;00m idx \u001b[38;5;129;01min\u001b[39;00m indices])  \u001b[38;5;66;03m# type: ignore[attr-defined]\u001b[39;00m\n\u001b[1;32m    363\u001b[0m \u001b[38;5;28;01melse\u001b[39;00m:\n\u001b[0;32m--> 364\u001b[0m     \u001b[38;5;28;01mreturn\u001b[39;00m [\u001b[38;5;28mself\u001b[39m\u001b[38;5;241m.\u001b[39mdataset[\u001b[38;5;28mself\u001b[39m\u001b[38;5;241m.\u001b[39mindices[idx]] \u001b[38;5;28;01mfor\u001b[39;00m idx \u001b[38;5;129;01min\u001b[39;00m indices]\n",
      "File \u001b[0;32m~/anaconda3/envs/llm/lib/python3.10/site-packages/torch/utils/data/dataset.py:364\u001b[0m, in \u001b[0;36m<listcomp>\u001b[0;34m(.0)\u001b[0m\n\u001b[1;32m    362\u001b[0m     \u001b[38;5;28;01mreturn\u001b[39;00m \u001b[38;5;28mself\u001b[39m\u001b[38;5;241m.\u001b[39mdataset\u001b[38;5;241m.\u001b[39m__getitems__([\u001b[38;5;28mself\u001b[39m\u001b[38;5;241m.\u001b[39mindices[idx] \u001b[38;5;28;01mfor\u001b[39;00m idx \u001b[38;5;129;01min\u001b[39;00m indices])  \u001b[38;5;66;03m# type: ignore[attr-defined]\u001b[39;00m\n\u001b[1;32m    363\u001b[0m \u001b[38;5;28;01melse\u001b[39;00m:\n\u001b[0;32m--> 364\u001b[0m     \u001b[38;5;28;01mreturn\u001b[39;00m [\u001b[38;5;28;43mself\u001b[39;49m\u001b[38;5;241;43m.\u001b[39;49m\u001b[43mdataset\u001b[49m\u001b[43m[\u001b[49m\u001b[38;5;28;43mself\u001b[39;49m\u001b[38;5;241;43m.\u001b[39;49m\u001b[43mindices\u001b[49m\u001b[43m[\u001b[49m\u001b[43midx\u001b[49m\u001b[43m]\u001b[49m\u001b[43m]\u001b[49m \u001b[38;5;28;01mfor\u001b[39;00m idx \u001b[38;5;129;01min\u001b[39;00m indices]\n",
      "File \u001b[0;32m~/anaconda3/envs/llm/lib/python3.10/site-packages/torch/utils/data/dataset.py:208\u001b[0m, in \u001b[0;36mTensorDataset.__getitem__\u001b[0;34m(self, index)\u001b[0m\n\u001b[1;32m    207\u001b[0m \u001b[38;5;28;01mdef\u001b[39;00m \u001b[38;5;21m__getitem__\u001b[39m(\u001b[38;5;28mself\u001b[39m, index):\n\u001b[0;32m--> 208\u001b[0m     \u001b[38;5;28;01mreturn\u001b[39;00m \u001b[38;5;28;43mtuple\u001b[39;49m\u001b[43m(\u001b[49m\u001b[43mtensor\u001b[49m\u001b[43m[\u001b[49m\u001b[43mindex\u001b[49m\u001b[43m]\u001b[49m\u001b[43m \u001b[49m\u001b[38;5;28;43;01mfor\u001b[39;49;00m\u001b[43m \u001b[49m\u001b[43mtensor\u001b[49m\u001b[43m \u001b[49m\u001b[38;5;129;43;01min\u001b[39;49;00m\u001b[43m \u001b[49m\u001b[38;5;28;43mself\u001b[39;49m\u001b[38;5;241;43m.\u001b[39;49m\u001b[43mtensors\u001b[49m\u001b[43m)\u001b[49m\n",
      "File \u001b[0;32m~/anaconda3/envs/llm/lib/python3.10/site-packages/torch/utils/data/dataset.py:208\u001b[0m, in \u001b[0;36m<genexpr>\u001b[0;34m(.0)\u001b[0m\n\u001b[1;32m    207\u001b[0m \u001b[38;5;28;01mdef\u001b[39;00m \u001b[38;5;21m__getitem__\u001b[39m(\u001b[38;5;28mself\u001b[39m, index):\n\u001b[0;32m--> 208\u001b[0m     \u001b[38;5;28;01mreturn\u001b[39;00m \u001b[38;5;28mtuple\u001b[39m(tensor[index] \u001b[38;5;28;01mfor\u001b[39;00m tensor \u001b[38;5;129;01min\u001b[39;00m \u001b[38;5;28mself\u001b[39m\u001b[38;5;241m.\u001b[39mtensors)\n",
      "\u001b[0;31mKeyboardInterrupt\u001b[0m: "
     ]
    }
   ],
   "source": [
    "# RNN for patient ID\n",
    "import torch\n",
    "import torch.nn as nn\n",
    "import torch.optim as optim\n",
    "from torch.utils.data import DataLoader, TensorDataset, random_split\n",
    "from sklearn.metrics import accuracy_score, precision_score, recall_score, f1_score, confusion_matrix\n",
    "from sklearn.preprocessing import LabelEncoder\n",
    "import matplotlib.pyplot as plt\n",
    "import seaborn as sns\n",
    "from tqdm import tqdm\n",
    "import shap\n",
    "import os\n",
    "\n",
    "# Check for GPU\n",
    "device = torch.device(\"cuda\" if torch.cuda.is_available() else \"cpu\")\n",
    "print(f\"Using device: {device}\")\n",
    "\n",
    "# Encode participant labels\n",
    "label_encoder = LabelEncoder()\n",
    "y_train_id_encoded = label_encoder.fit_transform(y_train_id)\n",
    "y_test_id_encoded = label_encoder.transform(y_test_id)\n",
    "num_classes = len(label_encoder.classes_)\n",
    "\n",
    "# Convert data to PyTorch tensors and create DataLoader\n",
    "X_train_id_tensor = torch.tensor(X_train_id.values, dtype=torch.float32).unsqueeze(2).to(device)\n",
    "X_test_id_tensor = torch.tensor(X_test_id.values, dtype=torch.float32).unsqueeze(2).to(device)\n",
    "y_train_id_tensor = torch.tensor(y_train_id_encoded, dtype=torch.long).to(device)  # Use long for CrossEntropyLoss\n",
    "y_test_id_tensor = torch.tensor(y_test_id_encoded, dtype=torch.long).to(device)\n",
    "\n",
    "# Split the training data into training and validation sets\n",
    "train_size = int(0.8 * len(X_train_id_tensor))\n",
    "val_size = len(X_train_id_tensor) - train_size\n",
    "train_dataset, val_dataset = random_split(TensorDataset(X_train_id_tensor, y_train_id_tensor), [train_size, val_size])\n",
    "\n",
    "train_loader = DataLoader(train_dataset, batch_size=256*1024, shuffle=True)\n",
    "val_loader = DataLoader(val_dataset, batch_size=256*1024, shuffle=False)\n",
    "test_loader = DataLoader(TensorDataset(X_test_id_tensor, y_test_id_tensor), batch_size=256*1024, shuffle=False)\n",
    "\n",
    "print(f\"Number of unique patient IDs: {num_classes}\")\n",
    "\n",
    "# Define the RNN model\n",
    "class RNNIDModel(nn.Module):\n",
    "    def __init__(self, input_size, hidden_size, num_layers, num_classes):\n",
    "        super(RNNIDModel, self).__init__()\n",
    "        self.rnn = nn.RNN(input_size, hidden_size, num_layers, batch_first=True, dropout=0.3)\n",
    "        self.fc1 = nn.Linear(hidden_size, 256)\n",
    "        self.fc2 = nn.Linear(256, 128)\n",
    "        self.fc3 = nn.Linear(128, num_classes)\n",
    "        self.dropout = nn.Dropout(0.5)\n",
    "        self.relu = nn.ReLU()\n",
    "\n",
    "    def forward(self, x):\n",
    "        h0 = torch.zeros(num_layers, x.size(0), hidden_size).to(device)\n",
    "        out, _ = self.rnn(x, h0)\n",
    "        out = self.fc1(out[:, -1, :])\n",
    "        out = self.relu(out)\n",
    "        out = self.dropout(out)\n",
    "        out = self.fc2(out)\n",
    "        out = self.relu(out)\n",
    "        out = self.dropout(out)\n",
    "        out = self.fc3(out)\n",
    "        return out\n",
    "\n",
    "# Model parameters\n",
    "input_size = 1\n",
    "hidden_size = 256\n",
    "num_layers = 3\n",
    "\n",
    "# Instantiate the model, define the loss function and the optimizer\n",
    "model = RNNIDModel(input_size, hidden_size, num_layers, num_classes).to(device)\n",
    "criterion = nn.CrossEntropyLoss()\n",
    "optimizer = optim.Adam(model.parameters(), lr=0.01)\n",
    "\n",
    "# Evaluation function\n",
    "def evaluate_model(model, loader):\n",
    "    model.eval()\n",
    "    y_pred = []\n",
    "    y_true = []\n",
    "    running_loss = 0.0\n",
    "    with torch.no_grad():\n",
    "        for X_batch, y_batch in tqdm(loader, desc=\"Evaluating\", leave=False):\n",
    "            outputs = model(X_batch)\n",
    "            _, preds = torch.max(outputs, 1)\n",
    "            y_pred.extend(preds.cpu().tolist())\n",
    "            y_true.extend(y_batch.cpu().tolist())\n",
    "            loss = criterion(outputs, y_batch)\n",
    "            running_loss += loss.item()\n",
    "\n",
    "    # Metrics\n",
    "    accuracy = accuracy_score(y_true, y_pred)\n",
    "    precision = precision_score(y_true, y_pred, average='weighted')\n",
    "    recall = recall_score(y_true, y_pred, average='weighted')\n",
    "    f1 = f1_score(y_true, y_pred, average='weighted')\n",
    "\n",
    "    return accuracy, precision, recall, f1, running_loss/len(loader)\n",
    "\n",
    "# Train the model\n",
    "num_epochs = 20\n",
    "best_val_accuracy = 0.0\n",
    "best_model_path = \"best_model_patient_ID_RNN.pth\"\n",
    "\n",
    "for epoch in range(num_epochs):\n",
    "    model.train()\n",
    "    running_loss = 0.0\n",
    "    for X_batch, y_batch in tqdm(train_loader, desc=f\"Training Epoch {epoch+1}/{num_epochs}\"):\n",
    "        optimizer.zero_grad()\n",
    "        outputs = model(X_batch)\n",
    "        loss = criterion(outputs, y_batch)\n",
    "        loss.backward()\n",
    "        optimizer.step()\n",
    "        running_loss += loss.item()\n",
    "    \n",
    "    print(f'Epoch [{epoch+1}/{num_epochs}], Training Loss: {running_loss/len(train_loader):.4f}')\n",
    "    \n",
    "    # Evaluate on validation data\n",
    "    val_accuracy, val_precision, val_recall, val_f1, val_loss = evaluate_model(model, val_loader)\n",
    "    print(f\"Validation - Epoch [{epoch+1}/{num_epochs}] Metrics:\")\n",
    "    print(f\"Accuracy: {val_accuracy:.4f}, Precision: {val_precision:.4f}, Recall: {val_recall:.4f}, F1 Score: {val_f1:.4f}, Loss: {val_loss:.4f}\")\n",
    "\n",
    "    # Save the model if it has the best validation accuracy so far\n",
    "    if val_accuracy > best_val_accuracy:\n",
    "        best_val_accuracy = val_accuracy\n",
    "        torch.save(model.state_dict(), best_model_path)\n",
    "        print(f\"Model saved with validation accuracy: {best_val_accuracy:.4f}\")\n",
    "\n",
    "# Load the best model\n",
    "model.load_state_dict(torch.load(best_model_path))\n",
    "\n",
    "# Final evaluation on test data\n",
    "test_accuracy, test_precision, test_recall, test_f1, test_loss = evaluate_model(model, test_loader)\n",
    "print(\"\\nFinal Test Data Evaluation Metrics:\")\n",
    "print(f\"Accuracy: {test_accuracy:.4f}\")\n",
    "print(f\"Precision: {test_precision:.4f}\")\n",
    "print(f\"Recall: {test_recall:.4f}\")\n",
    "print(f\"F1 Score: {test_f1:.4f}\")\n",
    "print(f\"Loss: {test_loss:.4f}\")\n",
    "\n",
    "# Plot confusion matrix\n",
    "y_true, y_pred = [], []\n",
    "model.eval()\n",
    "with torch.no_grad():\n",
    "    for X_batch, y_batch in test_loader:\n",
    "        outputs = model(X_batch)\n",
    "        _, preds = torch.max(outputs, 1)\n",
    "        y_pred.extend(preds.cpu().tolist())\n",
    "        y_true.extend(y_batch.cpu().tolist())\n",
    "\n",
    "cm = confusion_matrix(y_true, y_pred)\n",
    "plt.figure(figsize=(20, 16))\n",
    "sns.heatmap(cm, annot=True, fmt=\"d\", cmap='Blues')\n",
    "plt.title('Confusion Matrix for Patient ID Identification (RNN)')\n",
    "plt.ylabel('True Label')\n",
    "plt.xlabel('Predicted Label')\n",
    "plt.show()\n",
    "\n",
    "# SHAP analysis (for interpretability)\n",
    "# Note: SHAP for PyTorch models may require using the DeepExplainer\n",
    "# explainer = shap.DeepExplainer(model, X_train_id_tensor)\n",
    "# shap_values = explainer.shap_values(X_test_id_tensor)\n",
    "# shap.summary_plot(shap_values, X_test_id_tensor, plot_type=\"bar\")\n"
   ]
  },
  {
   "cell_type": "code",
   "execution_count": null,
   "metadata": {},
   "outputs": [],
   "source": [
    "# Autoencoder for patient ID\n",
    "import torch\n",
    "import torch.nn as nn\n",
    "import torch.optim as optim\n",
    "from torch.utils.data import DataLoader, TensorDataset, random_split\n",
    "from sklearn.metrics import accuracy_score, precision_score, recall_score, f1_score, confusion_matrix\n",
    "from sklearn.preprocessing import LabelEncoder\n",
    "import matplotlib.pyplot as plt\n",
    "import seaborn as sns\n",
    "from tqdm import tqdm\n",
    "import shap\n",
    "import os\n",
    "\n",
    "# Check for GPU\n",
    "device = torch.device(\"cuda\" if torch.cuda.is_available() else \"cpu\")\n",
    "print(f\"Using device: {device}\")\n",
    "\n",
    "# Encode participant labels\n",
    "label_encoder = LabelEncoder()\n",
    "y_train_id_encoded = label_encoder.fit_transform(y_train_id)\n",
    "y_test_id_encoded = label_encoder.transform(y_test_id)\n",
    "num_classes = len(label_encoder.classes_)\n",
    "\n",
    "# Convert data to PyTorch tensors and create DataLoader\n",
    "X_train_id_tensor = torch.tensor(X_train_id.values, dtype=torch.float32).unsqueeze(2).to(device)\n",
    "X_test_id_tensor = torch.tensor(X_test_id.values, dtype=torch.float32).unsqueeze(2).to(device)\n",
    "y_train_id_tensor = torch.tensor(y_train_id_encoded, dtype=torch.long).to(device)  # Use long for CrossEntropyLoss\n",
    "y_test_id_tensor = torch.tensor(y_test_id_encoded, dtype=torch.long).to(device)\n",
    "\n",
    "# Split the training data into training and validation sets\n",
    "train_size = int(0.8 * len(X_train_id_tensor))\n",
    "val_size = len(X_train_id_tensor) - train_size\n",
    "train_dataset, val_dataset = random_split(TensorDataset(X_train_id_tensor, y_train_id_tensor), [train_size, val_size])\n",
    "\n",
    "train_loader = DataLoader(train_dataset, batch_size=256*1024, shuffle=True)\n",
    "val_loader = DataLoader(val_dataset, batch_size=256*1024, shuffle=False)\n",
    "test_loader = DataLoader(TensorDataset(X_test_id_tensor, y_test_id_tensor), batch_size=256*1024, shuffle=False)\n",
    "\n",
    "print(f\"Number of unique patient IDs: {num_classes}\")\n",
    "\n",
    "# Define the Autoencoder model\n",
    "class AutoencoderIDModel(nn.Module):\n",
    "    def __init__(self, input_size, hidden_size, code_size, num_classes):\n",
    "        super(AutoencoderIDModel, self).__init__()\n",
    "        self.encoder = nn.Sequential(\n",
    "            nn.Linear(input_size, hidden_size),\n",
    "            nn.ReLU(),\n",
    "            nn.Linear(hidden_size, code_size),\n",
    "            nn.ReLU()\n",
    "        )\n",
    "        self.decoder = nn.Sequential(\n",
    "            nn.Linear(code_size, hidden_size),\n",
    "            nn.ReLU(),\n",
    "            nn.Linear(hidden_size, input_size),\n",
    "            nn.Sigmoid()\n",
    "        )\n",
    "        self.classifier = nn.Linear(code_size, num_classes)\n",
    "\n",
    "    def forward(self, x):\n",
    "        encoded = self.encoder(x)\n",
    "        decoded = self.decoder(encoded)\n",
    "        classified = self.classifier(encoded)\n",
    "        return classified, decoded\n",
    "\n",
    "# Model parameters\n",
    "input_size = X_train_id_tensor.shape[1]\n",
    "hidden_size = 128\n",
    "code_size = 64\n",
    "\n",
    "# Instantiate the model, define the loss function and the optimizer\n",
    "model = AutoencoderIDModel(input_size, hidden_size, code_size, num_classes).to(device)\n",
    "criterion_classifier = nn.CrossEntropyLoss()\n",
    "criterion_autoencoder = nn.MSELoss()\n",
    "optimizer = optim.Adam(model.parameters(), lr=0.01)\n",
    "\n",
    "# Evaluation function\n",
    "def evaluate_model(model, loader):\n",
    "    model.eval()\n",
    "    y_pred = []\n",
    "    y_true = []\n",
    "    running_loss = 0.0\n",
    "    with torch.no_grad():\n",
    "        for X_batch, y_batch in tqdm(loader, desc=\"Evaluating\", leave=False):\n",
    "            outputs, _ = model(X_batch)\n",
    "            _, preds = torch.max(outputs, 1)\n",
    "            y_pred.extend(preds.cpu().tolist())\n",
    "            y_true.extend(y_batch.cpu().tolist())\n",
    "            loss = criterion_classifier(outputs, y_batch)\n",
    "            running_loss += loss.item()\n",
    "\n",
    "    # Metrics\n",
    "    accuracy = accuracy_score(y_true, y_pred)\n",
    "    precision = precision_score(y_true, y_pred, average='weighted')\n",
    "    recall = recall_score(y_true, y_pred, average='weighted')\n",
    "    f1 = f1_score(y_true, y_pred, average='weighted')\n",
    "\n",
    "    return accuracy, precision, recall, f1, running_loss/len(loader)\n",
    "\n",
    "# Train the model\n",
    "num_epochs = 20\n",
    "best_val_accuracy = 0.0\n",
    "best_model_path = \"best_model_patient_ID_Autoencoder.pth\"\n",
    "\n",
    "for epoch in range(num_epochs):\n",
    "    model.train()\n",
    "    running_loss = 0.0\n",
    "    for X_batch, y_batch in tqdm(train_loader, desc=f\"Training Epoch {epoch+1}/{num_epochs}\"):\n",
    "        optimizer.zero_grad()\n",
    "        outputs, decoded = model(X_batch)\n",
    "        loss_classifier = criterion_classifier(outputs, y_batch)\n",
    "        loss_autoencoder = criterion_autoencoder(decoded, X_batch)\n",
    "        loss = loss_classifier + loss_autoencoder\n",
    "        loss.backward()\n",
    "        optimizer.step()\n",
    "        running_loss += loss.item()\n",
    "    \n",
    "    print(f'Epoch [{epoch+1}/{num_epochs}], Training Loss: {running_loss/len(train_loader):.4f}')\n",
    "    \n",
    "    # Evaluate on validation data\n",
    "    val_accuracy, val_precision, val_recall, val_f1, val_loss = evaluate_model(model, val_loader)\n",
    "    print(f\"Validation - Epoch [{epoch+1}/{num_epochs}] Metrics:\")\n",
    "    print(f\"Accuracy: {val_accuracy:.4f}, Precision: {val_precision:.4f}, Recall: {val_recall:.4f}, F1 Score: {val_f1:.4f}, Loss: {val_loss:.4f}\")\n",
    "\n",
    "    # Save the model if it has the best validation accuracy so far\n",
    "    if val_accuracy > best_val_accuracy:\n",
    "        best_val_accuracy = val_accuracy\n",
    "        torch.save(model.state_dict(), best_model_path)\n",
    "        print(f\"Model saved with validation accuracy: {best_val_accuracy:.4f}\")\n",
    "\n",
    "# Load the best model\n",
    "model.load_state_dict(torch.load(best_model_path))\n",
    "\n",
    "# Final evaluation on test data\n",
    "test_accuracy, test_precision, test_recall, test_f1, test_loss = evaluate_model(model, test_loader)\n",
    "print(\"\\nFinal Test Data Evaluation Metrics:\")\n",
    "print(f\"Accuracy: {test_accuracy:.4f}\")\n",
    "print(f\"Precision: {test_precision:.4f}\")\n",
    "print(f\"Recall: {test_recall:.4f}\")\n",
    "print(f\"F1 Score: {test_f1:.4f}\")\n",
    "print(f\"Loss: {test_loss:.4f}\")\n",
    "\n",
    "# Plot confusion matrix\n",
    "y_true, y_pred = [], []\n",
    "model.eval()\n",
    "with torch.no_grad():\n",
    "    for X_batch, y_batch in test_loader:\n",
    "        outputs, _ = model(X_batch)\n",
    "        _, preds = torch.max(outputs, 1)\n",
    "        y_pred.extend(preds.cpu().tolist())\n",
    "        y_true.extend(y_batch.cpu().tolist())\n",
    "\n",
    "cm = confusion_matrix(y_true, y_pred)\n",
    "plt.figure(figsize=(20, 16))\n",
    "sns.heatmap(cm, annot=True, fmt=\"d\", cmap='Blues')\n",
    "plt.title('Confusion Matrix for Patient ID Identification (Autoencoder)')\n",
    "plt.ylabel('True Label')\n",
    "plt.xlabel('Predicted Label')\n",
    "plt.show()\n",
    "\n",
    "# SHAP analysis (for interpretability)\n",
    "# Note: SHAP for PyTorch models may require using the DeepExplainer\n",
    "# explainer = shap.DeepExplainer(model, X_train_id_tensor)\n",
    "# shap_values = explainer.shap_values(X_test_id_tensor)\n",
    "# shap.summary_plot(shap_values, X_test_id_tensor, plot_type=\"bar\")\n"
   ]
  },
  {
   "cell_type": "code",
   "execution_count": null,
   "metadata": {},
   "outputs": [],
   "source": [
    "# Transformer for patient ID\n",
    "import torch\n",
    "import torch.nn as nn\n",
    "import torch.optim as optim\n",
    "from torch.utils.data import DataLoader, TensorDataset, random_split\n",
    "from sklearn.metrics import accuracy_score, precision_score, recall_score, f1_score, confusion_matrix\n",
    "from sklearn.preprocessing import LabelEncoder\n",
    "import matplotlib.pyplot as plt\n",
    "import seaborn as sns\n",
    "from tqdm import tqdm\n",
    "import shap\n",
    "import os\n",
    "\n",
    "# Check for GPU\n",
    "device = torch.device(\"cuda\" if torch.cuda.is_available() else \"cpu\")\n",
    "print(f\"Using device: {device}\")\n",
    "\n",
    "# Encode participant labels\n",
    "label_encoder = LabelEncoder()\n",
    "y_train_id_encoded = label_encoder.fit_transform(y_train_id)\n",
    "y_test_id_encoded = label_encoder.transform(y_test_id)\n",
    "num_classes = len(label_encoder.classes_)\n",
    "\n",
    "# Convert data to PyTorch tensors and create DataLoader\n",
    "X_train_id_tensor = torch.tensor(X_train_id.values, dtype=torch.float32).unsqueeze(2).to(device)\n",
    "X_test_id_tensor = torch.tensor(X_test_id.values, dtype=torch.float32).unsqueeze(2).to(device)\n",
    "y_train_id_tensor = torch.tensor(y_train_id_encoded, dtype=torch.long).to(device)  # Use long for CrossEntropyLoss\n",
    "y_test_id_tensor = torch.tensor(y_test_id_encoded, dtype=torch.long).to(device)\n",
    "\n",
    "# Split the training data into training and validation sets\n",
    "train_size = int(0.8 * len(X_train_id_tensor))\n",
    "val_size = len(X_train_id_tensor) - train_size\n",
    "train_dataset, val_dataset = random_split(TensorDataset(X_train_id_tensor, y_train_id_tensor), [train_size, val_size])\n",
    "\n",
    "train_loader = DataLoader(train_dataset, batch_size=256*1024, shuffle=True)\n",
    "val_loader = DataLoader(val_dataset, batch_size=256*1024, shuffle=False)\n",
    "test_loader = DataLoader(TensorDataset(X_test_id_tensor, y_test_id_tensor), batch_size=256*1024, shuffle=False)\n",
    "\n",
    "print(f\"Number of unique patient IDs: {num_classes}\")\n",
    "\n",
    "# Define the Transformer model\n",
    "class TransformerIDModel(nn.Module):\n",
    "    def __init__(self, input_size, hidden_size, num_layers, num_classes, nhead=8, dim_feedforward=512, dropout=0.3):\n",
    "        super(TransformerIDModel, self).__init__()\n",
    "        self.embedding = nn.Linear(input_size, hidden_size)\n",
    "        encoder_layer = nn.TransformerEncoderLayer(d_model=hidden_size, nhead=nhead, dim_feedforward=dim_feedforward, dropout=dropout)\n",
    "        self.transformer_encoder = nn.TransformerEncoder(encoder_layer, num_layers=num_layers)\n",
    "        self.fc1 = nn.Linear(hidden_size, 256)\n",
    "        self.fc2 = nn.Linear(256, 128)\n",
    "        self.fc3 = nn.Linear(128, num_classes)\n",
    "        self.relu = nn.ReLU()\n",
    "        self.dropout = nn.Dropout(0.5)\n",
    "\n",
    "    def forward(self, x):\n",
    "        x = self.embedding(x)\n",
    "        x = self.transformer_encoder(x)\n",
    "        x = self.fc1(x[:, -1, :])\n",
    "        x = self.relu(x)\n",
    "        x = self.dropout(x)\n",
    "        x = self.fc2(x)\n",
    "        x = self.relu(x)\n",
    "        x = self.dropout(x)\n",
    "        x = self.fc3(x)\n",
    "        return x\n",
    "\n",
    "# Model parameters\n",
    "input_size = 1\n",
    "hidden_size = 256\n",
    "num_layers = 3\n",
    "\n",
    "# Instantiate the model, define the loss function and the optimizer\n",
    "model = TransformerIDModel(input_size, hidden_size, num_layers, num_classes).to(device)\n",
    "criterion = nn.CrossEntropyLoss()\n",
    "optimizer = optim.Adam(model.parameters(), lr=0.01)\n",
    "\n",
    "# Evaluation function\n",
    "def evaluate_model(model, loader):\n",
    "    model.eval()\n",
    "    y_pred = []\n",
    "    y_true = []\n",
    "    running_loss = 0.0\n",
    "    with torch.no_grad():\n",
    "        for X_batch, y_batch in tqdm(loader, desc=\"Evaluating\", leave=False):\n",
    "            outputs = model(X_batch)\n",
    "            _, preds = torch.max(outputs, 1)\n",
    "            y_pred.extend(preds.cpu().tolist())\n",
    "            y_true.extend(y_batch.cpu().tolist())\n",
    "            loss = criterion(outputs, y_batch)\n",
    "            running_loss += loss.item()\n",
    "\n",
    "    # Metrics\n",
    "    accuracy = accuracy_score(y_true, y_pred)\n",
    "    precision = precision_score(y_true, y_pred, average='weighted')\n",
    "    recall = recall_score(y_true, y_pred, average='weighted')\n",
    "    f1 = f1_score(y_true, y_pred, average='weighted')\n",
    "\n",
    "    return accuracy, precision, recall, f1, running_loss/len(loader)\n",
    "\n",
    "# Train the model\n",
    "num_epochs = 20\n",
    "best_val_accuracy = 0.0\n",
    "best_model_path = \"best_model_patient_ID_Transformer.pth\"\n",
    "\n",
    "for epoch in range(num_epochs):\n",
    "    model.train()\n",
    "    running_loss = 0.0\n",
    "    for X_batch, y_batch in tqdm(train_loader, desc=f\"Training Epoch {epoch+1}/{num_epochs}\"):\n",
    "        optimizer.zero_grad()\n",
    "        outputs = model(X_batch)\n",
    "        loss = criterion(outputs, y_batch)\n",
    "        loss.backward()\n",
    "        optimizer.step()\n",
    "        running_loss += loss.item()\n",
    "    \n",
    "    print(f'Epoch [{epoch+1}/{num_epochs}], Training Loss: {running_loss/len(train_loader):.4f}')\n",
    "    \n",
    "    # Evaluate on validation data\n",
    "    val_accuracy, val_precision, val_recall, val_f1, val_loss = evaluate_model(model, val_loader)\n",
    "    print(f\"Validation - Epoch [{epoch+1}/{num_epochs}] Metrics:\")\n",
    "    print(f\"Accuracy: {val_accuracy:.4f}, Precision: {val_precision:.4f}, Recall: {val_recall:.4f}, F1 Score: {val_f1:.4f}, Loss: {val_loss:.4f}\")\n",
    "\n",
    "    # Save the model if it has the best validation accuracy so far\n",
    "    if val_accuracy > best_val_accuracy:\n",
    "        best_val_accuracy = val_accuracy\n",
    "        torch.save(model.state_dict(), best_model_path)\n",
    "        print(f\"Model saved with validation accuracy: {best_val_accuracy:.4f}\")\n",
    "\n",
    "# Load the best model\n",
    "model.load_state_dict(torch.load(best_model_path))\n",
    "\n",
    "# Final evaluation on test data\n",
    "test_accuracy, test_precision, test_recall, test_f1, test_loss = evaluate_model(model, test_loader)\n",
    "print(\"\\nFinal Test Data Evaluation Metrics:\")\n",
    "print(f\"Accuracy: {test_accuracy:.4f}\")\n",
    "print(f\"Precision: {test_precision:.4f}\")\n",
    "print(f\"Recall: {test_recall:.4f}\")\n",
    "print(f\"F1 Score: {test_f1:.4f}\")\n",
    "print(f\"Loss: {test_loss:.4f}\")\n",
    "\n",
    "# Plot confusion matrix\n",
    "y_true, y_pred = [], []\n",
    "model.eval()\n",
    "with torch.no_grad():\n",
    "    for X_batch, y_batch in test_loader:\n",
    "        outputs = model(X_batch)\n",
    "        _, preds = torch.max(outputs, 1)\n",
    "        y_pred.extend(preds.cpu().tolist())\n",
    "        y_true.extend(y_batch.cpu().tolist())\n",
    "\n",
    "cm = confusion_matrix(y_true, y_pred)\n",
    "plt.figure(figsize=(20, 16))\n",
    "sns.heatmap(cm, annot=True, fmt=\"d\", cmap='Blues')\n",
    "plt.title('Confusion Matrix for Patient ID Identification (Transformer)')\n",
    "plt.ylabel('True Label')\n",
    "plt.xlabel('Predicted Label')\n",
    "plt.show()\n",
    "\n",
    "# SHAP analysis (for interpretability)\n",
    "# Note: SHAP for PyTorch models may require using the DeepExplainer\n",
    "# explainer = shap.DeepExplainer(model, X_train_id_tensor)\n",
    "# shap_values = explainer.shap_values(X_test_id_tensor)\n",
    "# shap.summary_plot(shap_values, X_test_id_tensor, plot_type=\"bar\")\n"
   ]
  }
 ],
 "metadata": {
  "kernelspec": {
   "display_name": "llm",
   "language": "python",
   "name": "python3"
  },
  "language_info": {
   "codemirror_mode": {
    "name": "ipython",
    "version": 3
   },
   "file_extension": ".py",
   "mimetype": "text/x-python",
   "name": "python",
   "nbconvert_exporter": "python",
   "pygments_lexer": "ipython3",
   "version": "3.10.10"
  }
 },
 "nbformat": 4,
 "nbformat_minor": 2
}
